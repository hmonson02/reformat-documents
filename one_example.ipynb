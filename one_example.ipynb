{
 "cells": [
  {
   "cell_type": "code",
   "execution_count": 54,
   "id": "07bc916a-0dab-4893-8b18-577f64d17cce",
   "metadata": {},
   "outputs": [],
   "source": [
    "import pandas as pd"
   ]
  },
  {
   "cell_type": "code",
   "execution_count": 80,
   "id": "09a99960-1129-4e35-a1f7-27241cc6f01a",
   "metadata": {},
   "outputs": [],
   "source": [
    "import re"
   ]
  },
  {
   "cell_type": "code",
   "execution_count": 74,
   "id": "5d342682-95cf-45a9-a724-40bb1cac3669",
   "metadata": {},
   "outputs": [],
   "source": [
    "one_example_filename = 'one_example.txt'"
   ]
  },
  {
   "cell_type": "code",
   "execution_count": 126,
   "id": "70012593-7540-4e4f-870f-439dd0fd6321",
   "metadata": {},
   "outputs": [],
   "source": [
    "with open(one_example_filename, 'r') as file:\n",
    "    content = file.read().replace('\\n', 'EndOfLine')\n",
    "    # content = file.read()"
   ]
  },
  {
   "cell_type": "code",
   "execution_count": 82,
   "id": "8c6bc824-84ab-4cbc-83fd-5e293b0213a3",
   "metadata": {},
   "outputs": [
    {
     "data": {
      "text/plain": [
       "[]"
      ]
     },
     "execution_count": 82,
     "metadata": {},
     "output_type": "execute_result"
    }
   ],
   "source": [
    "[x.group() for x in re.finditer(r\"(?<=Reference Type\\: )(.*?)(?=Record Number\\: )\", content)]"
   ]
  },
  {
   "cell_type": "code",
   "execution_count": 125,
   "id": "888c71c7-f113-404c-9746-608b826b7a57",
   "metadata": {},
   "outputs": [
    {
     "data": {
      "text/plain": [
       "[' my first ']"
      ]
     },
     "execution_count": 125,
     "metadata": {},
     "output_type": "execute_result"
    }
   ],
   "source": [
    "test_str = \"This is my first sentence. This is my second \\nsentence.\"\n",
    "# test_str = \"This is my first sentence. This is my second sentence.\"\n",
    "re.findall(\"(?<=This is)(.*?)(?=sentence)\", test_str)"
   ]
  },
  {
   "cell_type": "code",
   "execution_count": 100,
   "id": "d692d714-038a-46ae-9a6f-45f7fcee86dd",
   "metadata": {},
   "outputs": [
    {
     "data": {
      "text/plain": [
       "[' Journal Article']"
      ]
     },
     "execution_count": 100,
     "metadata": {},
     "output_type": "execute_result"
    }
   ],
   "source": [
    "re.findall(r\"(?<=Reference\\ Type: )\"\n",
    "           +r\"(.*?)(?=Record Number: )\", content)"
   ]
  },
  {
   "cell_type": "code",
   "execution_count": 127,
   "id": "155233bb-ad91-4a36-8b0f-28831262ccf3",
   "metadata": {
    "collapsed": true,
    "jupyter": {
     "outputs_hidden": true
    },
    "tags": []
   },
   "outputs": [
    {
     "data": {
      "text/plain": [
       "\"Reference Type:  Journal ArticleEndOfLineRecord Number: 31428EndOfLineAuthor: Barry, R. J., Tallouzi, M. O., Bucknall, N., Mathers, J. M., Murray, P. I., Calvert, M. J., Moore, D. J. and Denniston, A. K.EndOfLineYear: 2018EndOfLineTitle: Anti‐tumour necrosis factor biological therapies for the treatment of uveitic macular oedema (UMO) for non‐infectious uveitisEndOfLineJournal: Cochrane Database of Systematic ReviewsEndOfLineIssue: 12EndOfLineShort Title: Anti‐tumour necrosis factor biological therapies for the treatment of uveitic macular oedema (UMO) for non‐infectious uveitisEndOfLineISSN: 1465-1858EndOfLineDOI: 10.1002/14651858.CD012577.pub2EndOfLineAccession Number: CD012577EndOfLineKeywords: HumansEndOfLineMacular Edema [*drug therapy, etiology]EndOfLineOff‐Label UseEndOfLineTumor Necrosis Factor‐alpha [*antagonists & inhibitors]EndOfLineUveitis [*complications]EndOfLineAbstract: - Background Non‐infectious uveitis describes a heterogenous group of ocular disorders characterised by intraocular inflammation in the absence of infection. Uveitis is a leading cause of visual loss, most commonly due to uveitic macular oedema (UMO). Treatment is aimed at reducing disease activity by suppression of the intraocular inflammatory response. In the case of macular oedema, the aim is to restore macular architecture as quickly as possible, in order to prevent irreversible photoreceptor damage in this area. Acute exacerbations are typically managed with corticosteroids, which may be administered topically, locally or systemically. Whilst these are often rapidly effective in achieving disease control, long‐term use is associated with significant local and systemic side effects, and 'steroid sparing agents' are typically used to achieve prolonged control in severe or recalcitrant disease. Anti‐tumour necrosis factor (TNF) drugs block a critical cytokine in the inflammatory signalling process, and have emerged as effective steroid‐sparing immunomodulatory agents in a wide range of non‐ocular conditions. There is mechanistic data to suggest that they may provide a more targeted approach to disease control in UMO than other agents, but to date, these agents have predominantly been used 'off label' as the majority are not licensed for ocular use. This review aims to summarise the available literature reporting the use of anti‐TNF therapy in UMO, thus developing the evidence‐base on which to make future treatment decisions and develop clinical guidelines in this area. Objectives To assess the efficacy of anti‐TNF therapy in treatment of UMO. Search methods We searched the Cochrane Central Register of Controlled Trials (CENTRAL; 2018, Issue 2), which contains the Cochrane Eyes and Vision Trials Register; Ovid MEDLINE; Ovid Embase; LILACS; Web of Science Conference Proceedings Citation Index‐ Science (CPCI‐S); System for Information on Grey Literature in Europe (OpenGrey); the ISRCTN registry; ClinicalTrials.gov and the WHO ICTRP. The date of the search was 29 March 2018. Selection criteria We planned to include all relevant randomised controlled trials assessing the use of anti‐TNF agents in treatment of UMO. No limits were applied to participant age, gender or ethnicity. The primary comparisons of this review were: anti‐TNF versus no treatment or placebo; anti‐TNF versus another pharmacological agent; comparison of different anti‐TNF drugs; comparison of different doses and routes of administration of the same anti‐TNF drug. The primary outcome measure that we assessed for this review was best‐corrected visual acuity (BCVA) in the treated eye. Secondary outcome measures were anatomical macular change, clinical estimation of vitreous haze and health‐related quality of life. Data collection and analysis Two review authors independently screened titles and abstracts retrieved through the database searches. We retrieved full‐text reports of studies categorised as 'unsure' or 'include' after we had reviewed the abstracts. Two review authors independently reviewed each full‐text report for eligibility. We resolved discrepancies through discussion. Main results We identified no completed or ongoing trial that was eligible for this Cochrane Review. Authors' conclusions Our review did not identify any evidence from randomised controlled trials for or against the role of anti���TNF agents in the management of UMO. Although there are a number of high‐quality randomised controlled trials that demonstrate the efficacy of anti‐TNF agents in preventing recurrence of inflammation in uveitis, the reported study outcomes do not include changes in UMO. As a result, there were insufficient data to conclude whether there was a significant treatment effect specifically for UMO. Future trials should be designed to include quantitative measures of UMO as primary study outcomes, for example by reporting the presence or absence of UMO, or by measuring central macular thickness for study participants. Furthermore, whilst UMO is an important complication of uveitis, we acknowledge that uveitis is associated with many significant structural and functional complications. It is not possible to determine treatment efficacy based on a single outcome measure. We recommend that future reviews of therapeutic interventions in uveitis should use composite measures of treatment response comprising a range of potential complications of disease. Plain language summary Anti‐tumour necrosis factor medication for treating swelling at the back of the eye (macular oedema) due to inflammatory eye disease (uveitis) What is the aim of this review? \\u2028 The aim of this Cochrane Review was to find out whether a new class of drugs (anti‐tumour necrosis factor agents) is effective in treating swelling at the back of the eye (macular oedema) caused by inflammation in the eye (uveitis). Cochrane Review authors searched for all relevant studies to address this question, but found no suitable studies for inclusion. Key messages \\u2028 There is currently no evidence for or against the use of anti‐tumour necrosis factor agents in treatment of macular oedema in uveitis. What was studied in this review? \\u2028 Uveitis is a group of eye conditions where there is inflammation within the eye. If there is inflammation at the back of the eye (macula) this can cause swelling (macular oedema). Macula oedema can lead to loss of vision, Uveitis is often treated with steroids to control the inflammation and avoid damage to the eye. But steroids have potentially serious side effects, and doctors do not recommend long‐term use. 'Steroid‐sparing agents' are medications with similar anti‐inflammatory effects to steroids, but with fewer side effects. They are preferred when people with uveitis need long‐term treatment. Anti‐tumour necrosis factor agents are a new type of steroid‐sparing agent. They have been used for other conditions. Cochrane researchers wanted to find out if these agents are useful in the treatment of macular oedema in uveitis. What are the main results of the review? \\u2028 Cochrane Review authors searched multiple electronic databases for studies of the use of anti‐tumour necrosis factor medications in macular oedema due to uveitis. They found no relevant studies. There are some studies that show that these drugs are effective in controlling inflammation in the eye, but none of these specifically investigated macular oedema. More research is needed to help informed decision‐making in this area. How up‐to‐date is this review? \\u2028 Cochrane Review authors searched for studies that had been published up to 29 March 2018.EndOfLineNotes: [Eyes and Vision]EndOfLineURL: http://dx.doi.org/10.1002/14651858.CD012577.pub2\""
      ]
     },
     "execution_count": 127,
     "metadata": {},
     "output_type": "execute_result"
    }
   ],
   "source": [
    "content"
   ]
  },
  {
   "cell_type": "code",
   "execution_count": 128,
   "id": "6f627402-ed71-4def-a76f-c334fb0f6504",
   "metadata": {
    "tags": []
   },
   "outputs": [
    {
     "data": {
      "text/plain": [
       "[('Reference Type: ',\n",
       "  ' Journal ArticleEndOfLine',\n",
       "  'Record Number: ',\n",
       "  '31428EndOfLine',\n",
       "  'Author: ',\n",
       "  'Barry, R. J., Tallouzi, M. O., Bucknall, N., Mathers, J. M., Murray, P. I., Calvert, M. J., Moore, D. J. and Denniston, A. K.EndOfLine',\n",
       "  'Year: ',\n",
       "  '2018EndOfLine',\n",
       "  'Title: ',\n",
       "  'Anti‐tumour necrosis factor biological therapies for the treatment of uveitic macular oedema (UMO) for non‐infectious uveitisEndOfLine',\n",
       "  'Journal: ',\n",
       "  'Cochrane Database of Systematic ReviewsEndOfLine',\n",
       "  'Issue: ',\n",
       "  '12EndOfLine',\n",
       "  'Short Title: ',\n",
       "  'Anti‐tumour necrosis factor biological therapies for the treatment of uveitic macular oedema (UMO) for non‐infectious uveitisEndOfLine',\n",
       "  'ISSN: ',\n",
       "  '1465-1858EndOfLine',\n",
       "  'DOI: ',\n",
       "  '10.1002/14651858.CD012577.pub2EndOfLine',\n",
       "  'Accession Number: ',\n",
       "  'CD012577EndOfLine',\n",
       "  'Keywords: ',\n",
       "  'HumansEndOfLineMacular Edema [*drug therapy, etiology]EndOfLineOff‐Label UseEndOfLineTumor Necrosis Factor‐alpha [*antagonists & inhibitors]EndOfLineUveitis [*complications]EndOfLine',\n",
       "  'Abstract: ',\n",
       "  \"- Background Non‐infectious uveitis describes a heterogenous group of ocular disorders characterised by intraocular inflammation in the absence of infection. Uveitis is a leading cause of visual loss, most commonly due to uveitic macular oedema (UMO). Treatment is aimed at reducing disease activity by suppression of the intraocular inflammatory response. In the case of macular oedema, the aim is to restore macular architecture as quickly as possible, in order to prevent irreversible photoreceptor damage in this area. Acute exacerbations are typically managed with corticosteroids, which may be administered topically, locally or systemically. Whilst these are often rapidly effective in achieving disease control, long‐term use is associated with significant local and systemic side effects, and 'steroid sparing agents' are typically used to achieve prolonged control in severe or recalcitrant disease. Anti‐tumour necrosis factor (TNF) drugs block a critical cytokine in the inflammatory signalling process, and have emerged as effective steroid‐sparing immunomodulatory agents in a wide range of non‐ocular conditions. There is mechanistic data to suggest that they may provide a more targeted approach to disease control in UMO than other agents, but to date, these agents have predominantly been used 'off label' as the majority are not licensed for ocular use. This review aims to summarise the available literature reporting the use of anti‐TNF therapy in UMO, thus developing the evidence‐base on which to make future treatment decisions and develop clinical guidelines in this area. Objectives To assess the efficacy of anti‐TNF therapy in treatment of UMO. Search methods We searched the Cochrane Central Register of Controlled Trials (CENTRAL; 2018, Issue 2), which contains the Cochrane Eyes and Vision Trials Register; Ovid MEDLINE; Ovid Embase; LILACS; Web of Science Conference Proceedings Citation Index‐ Science (CPCI‐S); System for Information on Grey Literature in Europe (OpenGrey); the ISRCTN registry; ClinicalTrials.gov and the WHO ICTRP. The date of the search was 29 March 2018. Selection criteria We planned to include all relevant randomised controlled trials assessing the use of anti‐TNF agents in treatment of UMO. No limits were applied to participant age, gender or ethnicity. The primary comparisons of this review were: anti‐TNF versus no treatment or placebo; anti‐TNF versus another pharmacological agent; comparison of different anti‐TNF drugs; comparison of different doses and routes of administration of the same anti‐TNF drug. The primary outcome measure that we assessed for this review was best‐corrected visual acuity (BCVA) in the treated eye. Secondary outcome measures were anatomical macular change, clinical estimation of vitreous haze and health‐related quality of life. Data collection and analysis Two review authors independently screened titles and abstracts retrieved through the database searches. We retrieved full‐text reports of studies categorised as 'unsure' or 'include' after we had reviewed the abstracts. Two review authors independently reviewed each full‐text report for eligibility. We resolved discrepancies through discussion. Main results We identified no completed or ongoing trial that was eligible for this Cochrane Review. Authors' conclusions Our review did not identify any evidence from randomised controlled trials for or against the role of anti���TNF agents in the management of UMO. Although there are a number of high‐quality randomised controlled trials that demonstrate the efficacy of anti‐TNF agents in preventing recurrence of inflammation in uveitis, the reported study outcomes do not include changes in UMO. As a result, there were insufficient data to conclude whether there was a significant treatment effect specifically for UMO. Future trials should be designed to include quantitative measures of UMO as primary study outcomes, for example by reporting the presence or absence of UMO, or by measuring central macular thickness for study participants. Furthermore, whilst UMO is an important complication of uveitis, we acknowledge that uveitis is associated with many significant structural and functional complications. It is not possible to determine treatment efficacy based on a single outcome measure. We recommend that future reviews of therapeutic interventions in uveitis should use composite measures of treatment response comprising a range of potential complications of disease. Plain language summary Anti‐tumour necrosis factor medication for treating swelling at the back of the eye (macular oedema) due to inflammatory eye disease (uveitis) What is the aim of this review? \\u2028 The aim of this Cochrane Review was to find out whether a new class of drugs (anti‐tumour necrosis factor agents) is effective in treating swelling at the back of the eye (macular oedema) caused by inflammation in the eye (uveitis). Cochrane Review authors searched for all relevant studies to address this question, but found no suitable studies for inclusion. Key messages \\u2028 There is currently no evidence for or against the use of anti‐tumour necrosis factor agents in treatment of macular oedema in uveitis. What was studied in this review? \\u2028 Uveitis is a group of eye conditions where there is inflammation within the eye. If there is inflammation at the back of the eye (macula) this can cause swelling (macular oedema). Macula oedema can lead to loss of vision, Uveitis is often treated with steroids to control the inflammation and avoid damage to the eye. But steroids have potentially serious side effects, and doctors do not recommend long‐term use. 'Steroid‐sparing agents' are medications with similar anti‐inflammatory effects to steroids, but with fewer side effects. They are preferred when people with uveitis need long‐term treatment. Anti‐tumour necrosis factor agents are a new type of steroid‐sparing agent. They have been used for other conditions. Cochrane researchers wanted to find out if these agents are useful in the treatment of macular oedema in uveitis. What are the main results of the review? \\u2028 Cochrane Review authors searched multiple electronic databases for studies of the use of anti‐tumour necrosis factor medications in macular oedema due to uveitis. They found no relevant studies. There are some studies that show that these drugs are effective in controlling inflammation in the eye, but none of these specifically investigated macular oedema. More research is needed to help informed decision‐making in this area. How up‐to‐date is this review? \\u2028 Cochrane Review authors searched for studies that had been published up to 29 March 2018.EndOfLine\",\n",
       "  'Notes: ',\n",
       "  '[Eyes and Vision]EndOfLine',\n",
       "  'URL: ',\n",
       "  '')]"
      ]
     },
     "execution_count": 128,
     "metadata": {},
     "output_type": "execute_result"
    }
   ],
   "source": [
    "re.findall(\"(Reference Type: )(.*?)\"\n",
    "           +\"(Record Number: )(.*?)\"\n",
    "           +\"(Author: )(.*?)\"\n",
    "           +\"(Year: )(.*?)\"\n",
    "           +\"(Title: )(.*?)\"\n",
    "           +\"(Journal: )(.*?)\"\n",
    "           +\"(Issue: )(.*?)\"\n",
    "           +\"(Short Title: )(.*?)\"\n",
    "           +\"(ISSN: )(.*?)\"\n",
    "           +\"(DOI: )(.*?)\"\n",
    "           +\"(Accession Number: )(.*?)\"\n",
    "           +\"(Keywords: )(.*?)\"\n",
    "           +\"(Abstract: )(.*?)\"\n",
    "           +\"(Notes: )(.*?)\"\n",
    "           +\"(URL: )(.*?)\", content)"
   ]
  },
  {
   "cell_type": "code",
   "execution_count": 96,
   "id": "20fe75ad-c36a-4cd9-960a-c9a8b7d367b4",
   "metadata": {},
   "outputs": [
    {
     "data": {
      "text/plain": [
       "[(' Journal Article', '31428')]"
      ]
     },
     "execution_count": 96,
     "metadata": {},
     "output_type": "execute_result"
    }
   ],
   "source": [
    "re.findall(r\"Reference\\ Type: (.*?)Record Number: (.*?)Author:\", content)\n"
   ]
  },
  {
   "cell_type": "code",
   "execution_count": 121,
   "id": "d412d73c-40c3-41b1-adec-db12cdabcc31",
   "metadata": {
    "collapsed": true,
    "jupyter": {
     "outputs_hidden": true
    },
    "tags": []
   },
   "outputs": [
    {
     "data": {
      "text/plain": [
       "\"Reference Type:  Journal Article\\nRecord Number: 31428\\nAuthor: Barry, R. J., Tallouzi, M. O., Bucknall, N., Mathers, J. M., Murray, P. I., Calvert, M. J., Moore, D. J. and Denniston, A. K.\\nYear: 2018\\nTitle: Anti‐tumour necrosis factor biological therapies for the treatment of uveitic macular oedema (UMO) for non‐infectious uveitis\\nJournal: Cochrane Database of Systematic Reviews\\nIssue: 12\\nShort Title: Anti‐tumour necrosis factor biological therapies for the treatment of uveitic macular oedema (UMO) for non‐infectious uveitis\\nISSN: 1465-1858\\nDOI: 10.1002/14651858.CD012577.pub2\\nAccession Number: CD012577\\nKeywords: Humans\\nMacular Edema [*drug therapy, etiology]\\nOff‐Label Use\\nTumor Necrosis Factor‐alpha [*antagonists & inhibitors]\\nUveitis [*complications]\\nAbstract: - Background Non‐infectious uveitis describes a heterogenous group of ocular disorders characterised by intraocular inflammation in the absence of infection. Uveitis is a leading cause of visual loss, most commonly due to uveitic macular oedema (UMO). Treatment is aimed at reducing disease activity by suppression of the intraocular inflammatory response. In the case of macular oedema, the aim is to restore macular architecture as quickly as possible, in order to prevent irreversible photoreceptor damage in this area. Acute exacerbations are typically managed with corticosteroids, which may be administered topically, locally or systemically. Whilst these are often rapidly effective in achieving disease control, long‐term use is associated with significant local and systemic side effects, and 'steroid sparing agents' are typically used to achieve prolonged control in severe or recalcitrant disease. Anti‐tumour necrosis factor (TNF) drugs block a critical cytokine in the inflammatory signalling process, and have emerged as effective steroid‐sparing immunomodulatory agents in a wide range of non‐ocular conditions. There is mechanistic data to suggest that they may provide a more targeted approach to disease control in UMO than other agents, but to date, these agents have predominantly been used 'off label' as the majority are not licensed for ocular use. This review aims to summarise the available literature reporting the use of anti‐TNF therapy in UMO, thus developing the evidence‐base on which to make future treatment decisions and develop clinical guidelines in this area. Objectives To assess the efficacy of anti‐TNF therapy in treatment of UMO. Search methods We searched the Cochrane Central Register of Controlled Trials (CENTRAL; 2018, Issue 2), which contains the Cochrane Eyes and Vision Trials Register; Ovid MEDLINE; Ovid Embase; LILACS; Web of Science Conference Proceedings Citation Index‐ Science (CPCI‐S); System for Information on Grey Literature in Europe (OpenGrey); the ISRCTN registry; ClinicalTrials.gov and the WHO ICTRP. The date of the search was 29 March 2018. Selection criteria We planned to include all relevant randomised controlled trials assessing the use of anti‐TNF agents in treatment of UMO. No limits were applied to participant age, gender or ethnicity. The primary comparisons of this review were: anti‐TNF versus no treatment or placebo; anti‐TNF versus another pharmacological agent; comparison of different anti‐TNF drugs; comparison of different doses and routes of administration of the same anti‐TNF drug. The primary outcome measure that we assessed for this review was best‐corrected visual acuity (BCVA) in the treated eye. Secondary outcome measures were anatomical macular change, clinical estimation of vitreous haze and health‐related quality of life. Data collection and analysis Two review authors independently screened titles and abstracts retrieved through the database searches. We retrieved full‐text reports of studies categorised as 'unsure' or 'include' after we had reviewed the abstracts. Two review authors independently reviewed each full‐text report for eligibility. We resolved discrepancies through discussion. Main results We identified no completed or ongoing trial that was eligible for this Cochrane Review. Authors' conclusions Our review did not identify any evidence from randomised controlled trials for or against the role of anti���TNF agents in the management of UMO. Although there are a number of high‐quality randomised controlled trials that demonstrate the efficacy of anti‐TNF agents in preventing recurrence of inflammation in uveitis, the reported study outcomes do not include changes in UMO. As a result, there were insufficient data to conclude whether there was a significant treatment effect specifically for UMO. Future trials should be designed to include quantitative measures of UMO as primary study outcomes, for example by reporting the presence or absence of UMO, or by measuring central macular thickness for study participants. Furthermore, whilst UMO is an important complication of uveitis, we acknowledge that uveitis is associated with many significant structural and functional complications. It is not possible to determine treatment efficacy based on a single outcome measure. We recommend that future reviews of therapeutic interventions in uveitis should use composite measures of treatment response comprising a range of potential complications of disease. Plain language summary Anti‐tumour necrosis factor medication for treating swelling at the back of the eye (macular oedema) due to inflammatory eye disease (uveitis) What is the aim of this review? \\u2028 The aim of this Cochrane Review was to find out whether a new class of drugs (anti‐tumour necrosis factor agents) is effective in treating swelling at the back of the eye (macular oedema) caused by inflammation in the eye (uveitis). Cochrane Review authors searched for all relevant studies to address this question, but found no suitable studies for inclusion. Key messages \\u2028 There is currently no evidence for or against the use of anti‐tumour necrosis factor agents in treatment of macular oedema in uveitis. What was studied in this review? \\u2028 Uveitis is a group of eye conditions where there is inflammation within the eye. If there is inflammation at the back of the eye (macula) this can cause swelling (macular oedema). Macula oedema can lead to loss of vision, Uveitis is often treated with steroids to control the inflammation and avoid damage to the eye. But steroids have potentially serious side effects, and doctors do not recommend long‐term use. 'Steroid‐sparing agents' are medications with similar anti‐inflammatory effects to steroids, but with fewer side effects. They are preferred when people with uveitis need long‐term treatment. Anti‐tumour necrosis factor agents are a new type of steroid‐sparing agent. They have been used for other conditions. Cochrane researchers wanted to find out if these agents are useful in the treatment of macular oedema in uveitis. What are the main results of the review? \\u2028 Cochrane Review authors searched multiple electronic databases for studies of the use of anti‐tumour necrosis factor medications in macular oedema due to uveitis. They found no relevant studies. There are some studies that show that these drugs are effective in controlling inflammation in the eye, but none of these specifically investigated macular oedema. More research is needed to help informed decision‐making in this area. How up‐to‐date is this review? \\u2028 Cochrane Review authors searched for studies that had been published up to 29 March 2018.\\nNotes: [Eyes and Vision]\\nURL: http://dx.doi.org/10.1002/14651858.CD012577.pub2\""
      ]
     },
     "execution_count": 121,
     "metadata": {},
     "output_type": "execute_result"
    }
   ],
   "source": [
    "content"
   ]
  },
  {
   "cell_type": "code",
   "execution_count": null,
   "id": "872cb0e8-a9b4-4255-b849-4d371ba2e1c8",
   "metadata": {},
   "outputs": [],
   "source": []
  },
  {
   "cell_type": "code",
   "execution_count": null,
   "id": "29ca50ac-51ad-4a8c-96df-4c1f35da31c0",
   "metadata": {},
   "outputs": [],
   "source": []
  },
  {
   "cell_type": "code",
   "execution_count": 56,
   "id": "d68a8878-8c1f-484f-b1fa-4a3fcfd2a891",
   "metadata": {},
   "outputs": [],
   "source": [
    "filename = '/Users/victoriagao/local_docs/tina_bibliometric/Cochrane_test.txt'"
   ]
  },
  {
   "cell_type": "code",
   "execution_count": 75,
   "id": "72f9323c-8988-41a1-a8d7-74034a6c34f7",
   "metadata": {},
   "outputs": [],
   "source": [
    "with open(one_example_filename) as f:\n",
    "    content_test = f.readlines()"
   ]
  },
  {
   "cell_type": "code",
   "execution_count": 76,
   "id": "7b73f51f-c7b0-4210-bd4d-74b0ae4531e1",
   "metadata": {
    "collapsed": true,
    "jupyter": {
     "outputs_hidden": true
    },
    "tags": []
   },
   "outputs": [
    {
     "data": {
      "text/plain": [
       "['Reference Type:  Journal Article\\n',\n",
       " 'Record Number: 31428\\n',\n",
       " 'Author: Barry, R. J., Tallouzi, M. O., Bucknall, N., Mathers, J. M., Murray, P. I., Calvert, M. J., Moore, D. J. and Denniston, A. K.\\n',\n",
       " 'Year: 2018\\n',\n",
       " 'Title: Anti‐tumour necrosis factor biological therapies for the treatment of uveitic macular oedema (UMO) for non‐infectious uveitis\\n',\n",
       " 'Journal: Cochrane Database of Systematic Reviews\\n',\n",
       " 'Issue: 12\\n',\n",
       " 'Short Title: Anti‐tumour necrosis factor biological therapies for the treatment of uveitic macular oedema (UMO) for non‐infectious uveitis\\n',\n",
       " 'ISSN: 1465-1858\\n',\n",
       " 'DOI: 10.1002/14651858.CD012577.pub2\\n',\n",
       " 'Accession Number: CD012577\\n',\n",
       " 'Keywords: Humans\\n',\n",
       " \"Abstract: - Background Non‐infectious uveitis describes a heterogenous group of ocular disorders characterised by intraocular inflammation in the absence of infection. Uveitis is a leading cause of visual loss, most commonly due to uveitic macular oedema (UMO). Treatment is aimed at reducing disease activity by suppression of the intraocular inflammatory response. In the case of macular oedema, the aim is to restore macular architecture as quickly as possible, in order to prevent irreversible photoreceptor damage in this area. Acute exacerbations are typically managed with corticosteroids, which may be administered topically, locally or systemically. Whilst these are often rapidly effective in achieving disease control, long‐term use is associated with significant local and systemic side effects, and 'steroid sparing agents' are typically used to achieve prolonged control in severe or recalcitrant disease. Anti‐tumour necrosis factor (TNF) drugs block a critical cytokine in the inflammatory signalling process, and have emerged as effective steroid‐sparing immunomodulatory agents in a wide range of non‐ocular conditions. There is mechanistic data to suggest that they may provide a more targeted approach to disease control in UMO than other agents, but to date, these agents have predominantly been used 'off label' as the majority are not licensed for ocular use. This review aims to summarise the available literature reporting the use of anti‐TNF therapy in UMO, thus developing the evidence‐base on which to make future treatment decisions and develop clinical guidelines in this area. Objectives To assess the efficacy of anti‐TNF therapy in treatment of UMO. Search methods We searched the Cochrane Central Register of Controlled Trials (CENTRAL; 2018, Issue 2), which contains the Cochrane Eyes and Vision Trials Register; Ovid MEDLINE; Ovid Embase; LILACS; Web of Science Conference Proceedings Citation Index‐ Science (CPCI‐S); System for Information on Grey Literature in Europe (OpenGrey); the ISRCTN registry; ClinicalTrials.gov and the WHO ICTRP. The date of the search was 29 March 2018. Selection criteria We planned to include all relevant randomised controlled trials assessing the use of anti‐TNF agents in treatment of UMO. No limits were applied to participant age, gender or ethnicity. The primary comparisons of this review were: anti‐TNF versus no treatment or placebo; anti‐TNF versus another pharmacological agent; comparison of different anti‐TNF drugs; comparison of different doses and routes of administration of the same anti‐TNF drug. The primary outcome measure that we assessed for this review was best‐corrected visual acuity (BCVA) in the treated eye. Secondary outcome measures were anatomical macular change, clinical estimation of vitreous haze and health‐related quality of life. Data collection and analysis Two review authors independently screened titles and abstracts retrieved through the database searches. We retrieved full‐text reports of studies categorised as 'unsure' or 'include' after we had reviewed the abstracts. Two review authors independently reviewed each full‐text report for eligibility. We resolved discrepancies through discussion. Main results We identified no completed or ongoing trial that was eligible for this Cochrane Review. Authors' conclusions Our review did not identify any evidence from randomised controlled trials for or against the role of anti���TNF agents in the management of UMO. Although there are a number of high‐quality randomised controlled trials that demonstrate the efficacy of anti‐TNF agents in preventing recurrence of inflammation in uveitis, the reported study outcomes do not include changes in UMO. As a result, there were insufficient data to conclude whether there was a significant treatment effect specifically for UMO. Future trials should be designed to include quantitative measures of UMO as primary study outcomes, for example by reporting the presence or absence of UMO, or by measuring central macular thickness for study participants. Furthermore, whilst UMO is an important complication of uveitis, we acknowledge that uveitis is associated with many significant structural and functional complications. It is not possible to determine treatment efficacy based on a single outcome measure. We recommend that future reviews of therapeutic interventions in uveitis should use composite measures of treatment response comprising a range of potential complications of disease. Plain language summary Anti‐tumour necrosis factor medication for treating swelling at the back of the eye (macular oedema) due to inflammatory eye disease (uveitis) What is the aim of this review? \\u2028 The aim of this Cochrane Review was to find out whether a new class of drugs (anti‐tumour necrosis factor agents) is effective in treating swelling at the back of the eye (macular oedema) caused by inflammation in the eye (uveitis). Cochrane Review authors searched for all relevant studies to address this question, but found no suitable studies for inclusion. Key messages \\u2028 There is currently no evidence for or against the use of anti‐tumour necrosis factor agents in treatment of macular oedema in uveitis. What was studied in this review? \\u2028 Uveitis is a group of eye conditions where there is inflammation within the eye. If there is inflammation at the back of the eye (macula) this can cause swelling (macular oedema). Macula oedema can lead to loss of vision, Uveitis is often treated with steroids to control the inflammation and avoid damage to the eye. But steroids have potentially serious side effects, and doctors do not recommend long‐term use. 'Steroid‐sparing agents' are medications with similar anti‐inflammatory effects to steroids, but with fewer side effects. They are preferred when people with uveitis need long‐term treatment. Anti‐tumour necrosis factor agents are a new type of steroid‐sparing agent. They have been used for other conditions. Cochrane researchers wanted to find out if these agents are useful in the treatment of macular oedema in uveitis. What are the main results of the review? \\u2028 Cochrane Review authors searched multiple electronic databases for studies of the use of anti‐tumour necrosis factor medications in macular oedema due to uveitis. They found no relevant studies. There are some studies that show that these drugs are effective in controlling inflammation in the eye, but none of these specifically investigated macular oedema. More research is needed to help informed decision‐making in this area. How up‐to‐date is this review? \\u2028 Cochrane Review authors searched for studies that had been published up to 29 March 2018.\\n\",\n",
       " 'Notes: [Eyes and Vision]\\n',\n",
       " 'URL: http://dx.doi.org/10.1002/14651858.CD012577.pub2']"
      ]
     },
     "execution_count": 76,
     "metadata": {},
     "output_type": "execute_result"
    }
   ],
   "source": [
    "content_test"
   ]
  },
  {
   "cell_type": "code",
   "execution_count": 58,
   "id": "21039d34-7dc4-4108-9903-da2242a44c90",
   "metadata": {},
   "outputs": [],
   "source": [
    "# Open the file as f.\n",
    "# The function readlines() reads the file.\n",
    "with open(one_example_filename) as f:\n",
    "    # content = f.read().splitlines()\n",
    "    content = f.readlines()"
   ]
  },
  {
   "cell_type": "code",
   "execution_count": 68,
   "id": "53396750-59bf-4b6c-957e-8593bc6f04b5",
   "metadata": {},
   "outputs": [],
   "source": [
    "# Try reading line by line"
   ]
  },
  {
   "cell_type": "code",
   "execution_count": 65,
   "id": "1448c305-d218-449e-bc79-f037fb9c3b70",
   "metadata": {
    "collapsed": true,
    "jupyter": {
     "outputs_hidden": true
    },
    "tags": []
   },
   "outputs": [
    {
     "name": "stdout",
     "output_type": "stream",
     "text": [
      "﻿Reference Type:  Journal Article\n",
      "\n",
      "Record Number: 31428\n",
      "\n",
      "Author: Barry, R. J., Tallouzi, M. O., Bucknall, N., Mathers, J. M., Murray, P. I., Calvert, M. J., Moore, D. J. and Denniston, A. K.\n",
      "\n",
      "Year: 2018\n",
      "\n",
      "Title: Anti‐tumour necrosis factor biological therapies for the treatment of uveitic macular oedema (UMO) for non‐infectious uveitis\n",
      "\n",
      "Journal: Cochrane Database of Systematic Reviews\n",
      "\n",
      "Issue: 12\n",
      "\n",
      "Short Title: Anti‐tumour necrosis factor biological therapies for the treatment of uveitic macular oedema (UMO) for non‐infectious uveitis\n",
      "\n",
      "ISSN: 1465-1858\n",
      "\n",
      "DOI: 10.1002/14651858.CD012577.pub2\n",
      "\n",
      "Accession Number: CD012577\n",
      "\n",
      "Keywords: Humans\n",
      "\n",
      "Macular Edema [*drug therapy, etiology]\n",
      "\n",
      "Off‐Label Use\n",
      "\n",
      "Tumor Necrosis Factor‐alpha [*antagonists & inhibitors]\n",
      "\n",
      "Uveitis [*complications]\n",
      "\n",
      "Abstract: - Background Non‐infectious uveitis describes a heterogenous group of ocular disorders characterised by intraocular inflammation in the absence of infection. Uveitis is a leading cause of visual loss, most commonly due to uveitic macular oedema (UMO). Treatment is aimed at reducing disease activity by suppression of the intraocular inflammatory response. In the case of macular oedema, the aim is to restore macular architecture as quickly as possible, in order to prevent irreversible photoreceptor damage in this area. Acute exacerbations are typically managed with corticosteroids, which may be administered topically, locally or systemically. Whilst these are often rapidly effective in achieving disease control, long‐term use is associated with significant local and systemic side effects, and 'steroid sparing agents' are typically used to achieve prolonged control in severe or recalcitrant disease. Anti‐tumour necrosis factor (TNF) drugs block a critical cytokine in the inflammatory signalling process, and have emerged as effective steroid‐sparing immunomodulatory agents in a wide range of non‐ocular conditions. There is mechanistic data to suggest that they may provide a more targeted approach to disease control in UMO than other agents, but to date, these agents have predominantly been used 'off label' as the majority are not licensed for ocular use. This review aims to summarise the available literature reporting the use of anti‐TNF therapy in UMO, thus developing the evidence‐base on which to make future treatment decisions and develop clinical guidelines in this area. Objectives To assess the efficacy of anti‐TNF therapy in treatment of UMO. Search methods We searched the Cochrane Central Register of Controlled Trials (CENTRAL; 2018, Issue 2), which contains the Cochrane Eyes and Vision Trials Register; Ovid MEDLINE; Ovid Embase; LILACS; Web of Science Conference Proceedings Citation Index‐ Science (CPCI‐S); System for Information on Grey Literature in Europe (OpenGrey); the ISRCTN registry; ClinicalTrials.gov and the WHO ICTRP. The date of the search was 29 March 2018. Selection criteria We planned to include all relevant randomised controlled trials assessing the use of anti‐TNF agents in treatment of UMO. No limits were applied to participant age, gender or ethnicity. The primary comparisons of this review were: anti‐TNF versus no treatment or placebo; anti‐TNF versus another pharmacological agent; comparison of different anti‐TNF drugs; comparison of different doses and routes of administration of the same anti‐TNF drug. The primary outcome measure that we assessed for this review was best‐corrected visual acuity (BCVA) in the treated eye. Secondary outcome measures were anatomical macular change, clinical estimation of vitreous haze and health‐related quality of life. Data collection and analysis Two review authors independently screened titles and abstracts retrieved through the database searches. We retrieved full‐text reports of studies categorised as 'unsure' or 'include' after we had reviewed the abstracts. Two review authors independently reviewed each full‐text report for eligibility. We resolved discrepancies through discussion. Main results We identified no completed or ongoing trial that was eligible for this Cochrane Review. Authors' conclusions Our review did not identify any evidence from randomised controlled trials for or against the role of anti���TNF agents in the management of UMO. Although there are a number of high‐quality randomised controlled trials that demonstrate the efficacy of anti‐TNF agents in preventing recurrence of inflammation in uveitis, the reported study outcomes do not include changes in UMO. As a result, there were insufficient data to conclude whether there was a significant treatment effect specifically for UMO. Future trials should be designed to include quantitative measures of UMO as primary study outcomes, for example by reporting the presence or absence of UMO, or by measuring central macular thickness for study participants. Furthermore, whilst UMO is an important complication of uveitis, we acknowledge that uveitis is associated with many significant structural and functional complications. It is not possible to determine treatment efficacy based on a single outcome measure. We recommend that future reviews of therapeutic interventions in uveitis should use composite measures of treatment response comprising a range of potential complications of disease. Plain language summary Anti‐tumour necrosis factor medication for treating swelling at the back of the eye (macular oedema) due to inflammatory eye disease (uveitis) What is the aim of this review?  ",
      " The aim of this Cochrane Review was to find out whether a new class of drugs (anti‐tumour necrosis factor agents) is effective in treating swelling at the back of the eye (macular oedema) caused by inflammation in the eye (uveitis). Cochrane Review authors searched for all relevant studies to address this question, but found no suitable studies for inclusion. Key messages  ",
      " There is currently no evidence for or against the use of anti‐tumour necrosis factor agents in treatment of macular oedema in uveitis. What was studied in this review?  ",
      " Uveitis is a group of eye conditions where there is inflammation within the eye. If there is inflammation at the back of the eye (macula) this can cause swelling (macular oedema). Macula oedema can lead to loss of vision, Uveitis is often treated with steroids to control the inflammation and avoid damage to the eye. But steroids have potentially serious side effects, and doctors do not recommend long‐term use. 'Steroid‐sparing agents' are medications with similar anti‐inflammatory effects to steroids, but with fewer side effects. They are preferred when people with uveitis need long‐term treatment. Anti‐tumour necrosis factor agents are a new type of steroid‐sparing agent. They have been used for other conditions. Cochrane researchers wanted to find out if these agents are useful in the treatment of macular oedema in uveitis. What are the main results of the review?  ",
      " Cochrane Review authors searched multiple electronic databases for studies of the use of anti‐tumour necrosis factor medications in macular oedema due to uveitis. They found no relevant studies. There are some studies that show that these drugs are effective in controlling inflammation in the eye, but none of these specifically investigated macular oedema. More research is needed to help informed decision‐making in this area. How up‐to‐date is this review?  ",
      " Cochrane Review authors searched for studies that had been published up to 29 March 2018.\n",
      "\n",
      "Notes: [Eyes and Vision]\n",
      "\n",
      "URL: http://dx.doi.org/10.1002/14651858.CD012577.pub2\n",
      "\n",
      "\n",
      "\n",
      "\n",
      "\n",
      "Reference Type:  Journal Article\n",
      "\n",
      "Record Number: 31431\n",
      "\n",
      "Author: Brady, C. J., Villanti, A. C., Law, H. A., Rahimy, E., Reddy, R., Sieving, P. C., Garg, S. J. and Tang, J.\n",
      "\n",
      "Year: 2016\n",
      "\n",
      "Title: Corticosteroid implants for chronic non‐infectious uveitis\n",
      "\n",
      "Journal: Cochrane Database of Systematic Reviews\n",
      "\n",
      "Issue: 2\n",
      "\n",
      "Short Title: Corticosteroid implants for chronic non‐infectious uveitis\n",
      "\n",
      "ISSN: 1465-1858\n",
      "\n",
      "DOI: 10.1002/14651858.CD010469.pub2\n",
      "\n",
      "Accession Number: CD010469\n",
      "\n",
      "Keywords: Adrenal Cortex Hormones [*administration & dosage]\n",
      "\n",
      "Adult\n",
      "\n",
      "Chronic Disease\n",
      "\n",
      "Drug Implants\n",
      "\n",
      "Humans\n",
      "\n",
      "Immunosuppressive Agents [administration & dosage]\n",
      "\n",
      "Prednisolone [*administration & dosage]\n",
      "\n",
      "Randomized Controlled Trials as Topic\n",
      "\n",
      "Recurrence\n",
      "\n",
      "Standard of Care\n",
      "\n",
      "Uveitis [*drug therapy]\n",
      "\n",
      "Abstract: - Background Uveitis is a term used to describe a heterogeneous group of intraocular inflammatory diseases of the anterior, intermediate, and posterior uveal tract (iris, ciliary body, choroid). Uveitis is the fifth most common cause of vision loss in high‐income countries, accounting for 5% to 20% of legal blindness, with the highest incidence of disease in the working‐age population. Corticosteroids are the mainstay of acute treatment for all anatomical subtypes of non‐infectious uveitis and can be administered orally, topically with drops or ointments, by periocular (around the eye) or intravitreal (inside the eye) injection, or by surgical implantation. Objectives To determine the efficacy and safety of steroid implants in people with chronic non‐infectious posterior uveitis, intermediate uveitis, and panuveitis. Search methods We searched CENTRAL (which contains the Cochrane Eyes and Vision Trials Register) (Issue 10, 2015), Ovid MEDLINE, Ovid MEDLINE In‐Process and Other Non‐Indexed Citations, Ovid MEDLINE Daily, Ovid OLDMEDLINE (January 1946 to November 2015), EMBASE (January 1980 to November 2015), PubMed (1948 to November 2015), Latin American and Caribbean Health Sciences Literature Database (LILACS) (1982 to November 2015), the meta Register of Controlled Trials ( m RCT) ( www.controlled‐trials.com ) (last searched 15 April 2013), ClinicalTrials.gov ( www.clinicaltrials.gov ), and the World Health Organization (WHO) International Clinical Trials Registry Platform (ICTRP) ( www.who.int/ictrp/search/en ). We did not use any date or language restrictions in the electronic search for studies. We last searched the electronic databases on 6 November 2015. We also searched reference lists of included study reports, citation databases, and abstracts and clinical study presentations from professional meetings. Selection criteria We included randomized controlled trials comparing either fluocinolone acetonide (FA) or dexamethasone intravitreal implants with standard‐of‐care therapy with at least six months of follow‐up after treatment. We included studies that enrolled participants of all ages who had chronic non‐infectious posterior uveitis, intermediate uveitis, or panuveitis with vision that was better than hand‐motion. Data collection and analysis Two review authors independently reviewed studies for inclusion. Two review authors independently extracted data and assessed the risk of bias for each study. Main results We included data from two studies (619 eyes of 401 participants) that compared FA implants with standard‐of‐care therapy. Both studies used similar standard‐of‐care therapy that included administration of prednisolone and, if needed, immunosuppressive agents. The studies included participants from Australia, France, Germany, Israel, Italy, Portugal, Saudi Arabia, Spain, Switzerland, Turkey, the United Kingdom, and the United States. We assessed both studies at high risk of performance and detection bias. Only one study reported our primary outcome, recurrence of uveitis at any point during the study through 24 months. The evidence, judged as moderate‐quality, showed that a FA implant probably prevents recurrence of uveitis compared with standard‐of‐care therapy (risk ratio (RR) 0.29, 95% confidence interval (CI) 0.14 to 0.59; 132 eyes). Both studies reported safety outcomes, and moderate‐quality evidence showed increased risks of needing cataract surgery (RR 2.98, 95% CI 2.33 to 3.79; 371 eyes) and surgery to lower intraocular pressure (RR 7.48, 95% CI 3.94 to 14.19; 599 eyes) in the implant group compared with standard‐of‐care therapy through two years of follow‐up. No studies compared dexamethasone implants with standard‐of‐care therapy. Authors' conclusions After considering both benefits and harms reported from two studies in which corticosteroids implants were compared with standard‐of‐care therapy, we are unable to conclude that the implants are superior to traditional systemic therapy for the treatment of non‐infectious uveit s. These studies exhibited heterogeneity in design and outcomes that measured efficacy. Pooled findings regarding safety outcomes suggest increased risks of post‐implant surgery for cataract and high intraocular pressure compared with standard‐of‐care therapy. Plain language summary Steroid implants for chronic uveitis not caused by infection Background  ",
      " Uveitis describes a group of eye diseases caused by inflammation (redness and swelling, etc.). Uveitis is the fifth most common cause of vision loss in high‐income countries, accounting for 5% (1 in 20 cases) to 20% (1 in 5 cases) of blindness, with the disease affecting mostly working‐age people. In low‐income countries, uveitis accounts for 2.4% (1 in 40 cases) to 24% (1 in 4 cases) of legal blindness. These figures are for all types of uveitis (infectious and non‐infectious uveitis), so the prevalence of non‐infectious uveitis (the focus of this review) is likely lower than these estimates. In this review, we were only able to focus on posterior uveitis, which occurs in a region in the back of the eye and may affect the choroid, retina, and/or vitreous. Posterior uveitis alone accounts for approximately 15% to 22% (1 in 4 to 6 cases) of uveitis cases and leads to approximately 10% (1 in 10 cases) of legal blindness in the United States. Posterior uveitis is primarily treated either with systemic (whole body, either by mouth or injection) or local (just near or inside the eye) medications that reduce inflammation, such as steroids. Review question  ",
      " We compared steroid devices implanted directly into the eye with standard‐of‐care therapy for non‐infectious posterior uveitis. We examined whether the steroid implants were better at treating uveitis, had fewer side effects, or both, than standard‐of‐care therapy. Study characteristics  ",
      " We included two randomized controlled trials that compared fluocinolone acetonide implants with standard‐of‐care therapy. These studies included 401 participants from Australia, France, Germany, Israel, Italy, Portugal, Saudi Arabia, Spain, Switzerland, Turkey, the United Kingdom, and the United States who were 6 years old or older and were followed for two years. The evidence is current to 6 November 2015. Key results  ",
      " Since the two studies were designed to answer slightly different questions about the fluocinolone implant, we were not able to combine data from both studies to compare how well the medications worked. However, we were able to do a combined analysis of the common side effects, which suggest that participants in the steroid implant group had more surgery for cataract (clouding of the lens of the eye) and for high eye pressure than participants in the non‐implant group. We were unable to determine whether the steroid implants were better than standard‐of‐care therapy. Quality of the evidence  ",
      " The overall quality of the presently available published evidence was moderate. This finding indicates that future published research is likely to have an important impact on the conclusions currently provided in this review.\n",
      "\n",
      "Notes: [Eyes and Vision]\n",
      "\n",
      "URL: http://dx.doi.org/10.1002/14651858.CD010469.pub2\n",
      "\n",
      "\n",
      "\n",
      "\n",
      "\n",
      "Reference Type:  Journal Article\n",
      "\n",
      "Record Number: 31430\n",
      "\n",
      "Author: Davies, G. R., Cerri, S. and Richeldi, L.\n",
      "\n",
      "Year: 2007\n",
      "\n",
      "Title: Rifabutin for treating pulmonary tuberculosis\n",
      "\n",
      "Journal: Cochrane Database of Systematic Reviews\n",
      "\n",
      "Issue: 4\n",
      "\n",
      "Short Title: Rifabutin for treating pulmonary tuberculosis\n",
      "\n",
      "ISSN: 1465-1858\n",
      "\n",
      "DOI: 10.1002/14651858.CD005159.pub2\n",
      "\n",
      "Accession Number: CD005159\n",
      "\n",
      "Keywords: Antibiotics, Antitubercular [adverse effects, *therapeutic use]\n",
      "\n",
      "Humans\n",
      "\n",
      "Randomized Controlled Trials as Topic\n",
      "\n",
      "Rifabutin [adverse effects, *therapeutic use]\n",
      "\n",
      "Rifampin [therapeutic use]\n",
      "\n",
      "Tuberculosis, Pulmonary [*drug therapy]\n",
      "\n",
      "Uveitis [chemically induced]\n",
      "\n",
      "Abstract: - Background Rifamycins are an essential component of modern short‐course regimens for treating tuberculosis. Rifabutin has favourable pharmacokinetic and pharmacodynamic properties and is less prone to drug−drug interactions than rifampicin. It could contribute to shortening of therapy or simplify treatment in HIV‐positive people who also need antiretroviral drugs. Objectives To compare combination drug regimens containing rifabutin with those containing rifampicin for treating pulmonary tuberculosis Search methods We searched Cochrane Infectious Diseases Group Specialized Register (July 2009), CENTRAL ( The Cochrane Library 2009, Issue 3), MEDLINE (1966 to July 2009), EMBASE (1974 to July 2009), and LILACS (1982 to July 2009). We also searched the Indian Journal of Tuberculosis (1983 to 2006), conference abstracts, reference lists, and unpublished data on file at Pfizer Inc. Selection criteria Randomized and quasi‐randomized trials including participants with sputum smear and/or culture‐confirmed tuberculosis that compared a rifabutin‐containing with an otherwise identical rifampicin‐containing regimen. Data collection and analysis Two authors independently assessed study eligibility and methodological quality, and extracted data. Dichotomous data were analysed and combined using relative risks (RR) with 95% confidence intervals (CI) using a fixed‐effect model. Subgroup analyses were carried out according to rifabutin dose. Main results Five trials with a total of 924 participants met the inclusion criteria; 5% of participants were HIV positive. Only one small trial was methodologically adequate. The two largest trials (818 participants) had unclear allocation concealment and included < 90% of randomized participants in the analysis. There was no statistically significant difference in between the regimens for cure (RR 1.00, 95% CI 0.96 to 1.04; 553 participants, 2 trials) or relapse (RR 1.23, 95% CI 0.45 to 3.35; 448 participants, 2 trials). The number of adverse events was not significantly different (RR 1.42, 95% CI 0.88 to 2.31; 714 participants, 3 trials), though the RR increased with rifabutin dose: 150 mg (RR 0.98, 95% CI 0.45 to 2.12; 264 participants, 2 trials); and 300 mg (RR 1.78, 95% CI 0.94 to 3.34; 450 participants, 2 trials). However, lack of dose adjustment by weight in the relevant trials complicates interpretation of this relationship. Authors' conclusions The replacement of rifampicin by rifabutin for first‐line treatment of tuberculosis is not supported by the current evidence. HIV‐positive people with tuberculosis, the group most likely to benefit from the rifabutin use, are under‐represented in trials to date, and further trials in this group would be useful. 25 May 2018 No update planned Research area no longer active This research area is no longer active Plain language summary Rifabutin for treating pulmonary tuberculosis Among current challenges in tuberculosis treatment are reducing the length of time that drugs must be taken to less than six months and finding ways to safely combine tuberculosis drugs with those used in the treatment of HIV infection. Rifabutin is a drug that has the potential to address these issues if substituted for rifampicin, a mainstay of current treatment. This review identified five trials involving 924 people, but none were of high quality. The review found no significant differences between rifabutin‐ and rifampicin‐containing treatment in curing tuberculosis and preventing relapse, but higher doses of rifabutin might be associated with more adverse effects and there was no evidence that it could shorten treatment. However, very few people with HIV and tuberculosis, who are most likely to benefit from use of rifabutin due to its lack of interaction with antiretroviral drugs, were included in the trials. Better quality clinical trials are needed to understand the place of rifabutin in the treatment of people with tuberculosis, particularly those who also have HIV.\n",
      "\n",
      "Notes: [Infectious Diseases]\n",
      "\n",
      "URL: http://dx.doi.org/10.1002/14651858.CD005159.pub2\n",
      "\n",
      "\n",
      "\n",
      "\n",
      "\n",
      "Reference Type:  Journal Article\n",
      "\n",
      "Record Number: 31429\n",
      "\n",
      "Author: Leung, T. G., Lindsley, K. and Kuo, I. C.\n",
      "\n",
      "Year: 2014\n",
      "\n",
      "Title: Types of intraocular lenses for cataract surgery in eyes with uveitis\n",
      "\n",
      "Journal: Cochrane Database of Systematic Reviews\n",
      "\n",
      "Issue: 3\n",
      "\n",
      "Short Title: Types of intraocular lenses for cataract surgery in eyes with uveitis\n",
      "\n",
      "ISSN: 1465-1858\n",
      "\n",
      "DOI: 10.1002/14651858.CD007284.pub2\n",
      "\n",
      "Accession Number: CD007284\n",
      "\n",
      "Keywords: *Lenses, Intraocular [classification]\n",
      "\n",
      "Adult\n",
      "\n",
      "Cataract Extraction [*methods]\n",
      "\n",
      "Cataract [etiology]\n",
      "\n",
      "Humans\n",
      "\n",
      "Randomized Controlled Trials as Topic\n",
      "\n",
      "Uveitis [*complications]\n",
      "\n",
      "Visual Acuity\n",
      "\n",
      "Abstract: - Background Cataract formation often occurs in people with uveitis. It is unclear which intraocular lens (IOL) type is optimal for use in cataract surgery for eyes with uveitis. Objectives To summarize the effects of different IOLs on visual acuity, other visual outcomes, and quality of life in people with uveitis. Search methods We searched CENTRAL (which contains the Cochrane Eyes and Vision Group Trials Register) ( The Cochrane Library 2013, Issue 7), Ovid MEDLINE, Ovid MEDLINE In‐Process and Other Non‐Indexed Citations, Ovid MEDLINE Daily, Ovid OLDMEDLINE (January 1946 to August 2013), EMBASE (January 1980 to August 2013), Latin American and Caribbean Literature on Health Sciences (LILACS) (January 1982 to August 2013), the meta Register of Controlled Trials ( m RCT) ( www.controlled‐trials.com ), ClinicalTrials.gov ( www.clinicaltrials.gov ) and the WHO International Clinical Trials Registry Platform (ICTRP) ( www.who.int/ictrp/search/en ). We did not use any date or language restrictions in the electronic searches for trials. We last searched the electronic databases on 14 August 2013. We also performed forward and backward searching using the Science Citation Index and the reference lists of the included studies, respectively, in August 2013. Selection criteria We included randomized controlled trials (RCTs) comparing hydrophobic or hydrophilic acrylic, silicone, or poly(methyl methacrylate) (PMMA) IOLs with or without heparin‐surface modification (HSM), with each other, or with no treatment in adults with uveitis, for any indication, undergoing cataract surgery. Data collection and analysis We used standard methodological procedures expected by The Cochrane Collaboration. Two review authors screened the search results and for included studies, assessed the risk of bias and extracted data independently. We contacted study investigators for additional information. We did not perform a meta‐analysis due to variability in reporting and follow‐up intervals for the primary and secondary outcomes of interest. Main results We included four RCTs involving 216 participants (range of 2 to 140 participants with uveitic cataract per trial) and comparing up to four types of IOLs. The largest study was an international study with centers in Brazil, Egypt, Finland, France, Japan, the Netherlands, Slovak Republic, Spain, and the USA; two studies were conducted in Germany and one in Saudi Arabia. There was substantial heterogeneity with respect to the ages of participants and etiologies of uveitis within and across studies. The length of follow‐up among the studies ranged from 1 to 24 months after cataract surgery. The studies were at low risk of selection bias, but two of the four studies did not employ masking and only one study included all randomized participants in the final analyses. The funding source was disclosed by investigators of the largest study (professional society) and not reported by the other three. Due to heterogeneity in lens types evaluated and outcomes reported among the trials, we did not combine data in a meta‐analysis. In the largest study (140 participants), the study eye of each participant was randomized to receive one of four types of IOLs: hydrophobic acrylic, silicone, HSM PMMA, or unmodified PMMA. Proportions of participants with one or more Snellen lines of visual improvement were similar among the four treatment groups at one year' follow‐up: 45 of 48 (94%) in the hydrophobic acrylic IOL group, 39 of 44 (89%) in the silicone IOL group, 18 of 22 (82%) in the HSM PMMA IOL group, and 22 of 26 (85%) in the unmodified PMMA IOL group. When comparing hydrophobic acrylic IOLs with silicone IOLs, the risk ratio (RR) was 1.06 (95% confidence interval (CI) 0.93 to 1.20). At one year' follow‐up, fewer eyes randomized to hydrophobic acrylic IOLs developed posterior synechiae when compared with eyes receiving silicone IOLs (RR 0.18, 95% CI 0.04 to 0.79); the effects between these groups were less certain with respect to developing posterior capsule opacification (PCO) (RR 0.74, 95% CI 0.41 to 1.37), corneal edema (RR 0.49, 95% CI 0.22 to 1.12), cystoid macular edema (RR 0.10, 95% CI 0.01 to 1.84), or mild IOL decentration (RR 0.92, 95% CI 0.06 to 14.22). Two intra‐individual studies also compared HSM PMMA IOLs with unmodified PMMA IOLs at three or six months of follow‐up. These studies, including a combined total of 16 participants with uveitis, were insufficiently powered to detect differences in outcomes among eyes of people with uveitis randomized to receive HSM PMMA IOLs when compared with fellow eyes receiving unmodified PMMA IOLs. In the fourth study (60 participants), the study eye of each participant was randomized to receive a hydrophobic or hydrophilic acrylic IOL. At three months, there were no statistical or clinical differences between hydrophobic and hydrophilic acrylic IOL types in the proportions of participants with two or more Snellen lines of visual improvement (RR 1.03, 95% CI 0.87 to 1.22). There were similar rates in the development of PCO between hydrophobic or hydrophilic acrylic IOLs at six months' follow‐up (RR 1.00, 95% CI 0.80 to 1.25). The effect of the lenses on posterior synechiae was uncertain at six months' follow‐up (RR 0.50, 95% CI 0.05 to 5.22). None of the included studies reported quality of life outcomes. Authors' conclusions Based on the trials identified in this review, there is uncertainty as to which type of IOL provides the best visual and clinical outcomes in people with uveitis undergoing cataract surgery. The studies were small, not all lens materials were compared in all studies, and not all lens materials were available in all study sites. Evidence of a superior effect of hydrophobic acrylic lenses over silicone lenses, specifically for posterior synechiae outcomes comes from a single study at a high risk of performance and detection bias. However, due to small sample sizes and heterogeneity in outcome reporting, we found insufficient information to assess these and other types of IOL materials for cataract surgery for eyes with uveitis. Plain language summary Comparison of artificial lenses placed in eyes with uveitis during cataract surgery Background Cataract, a cloudy lens within the eye, is a major complication in people with uveitis (inflammation of the middle layer of the eye). Different types of artificial lenses (intraocular lenses, IOLs) are available to insert into the eye after removal of the cloudy natural lens during cataract surgery. The purpose of this review is to summarize the effects of different artificial lenses in adults with uveitis. Study characteristics The review authors searched the medical literature up to August 2013 and identified four randomized controlled trials (clinical studies where people are randomly put into one of two or more treatment groups) containing 216 participants investigating different lens types. Lens materials studied were acrylic, silicone, heparin surface modified, and poly(methyl methacrylate). The trials included participants with different causes of uveitis, compared different lens types, and reported different outcomes. Due to these differences across trials, no meta‐analysis (pooling of trial data) was performed. The largest trial (140 participants) was funded by a professional society. The other three trials did not report their funding sources. Key results There is very limited evidence on which to determine the effects of different types of lens materials for people with uveitis. The results from the largest trial provide only preliminary evidence that acrylic lenses may perform better than silicone lenses in terms of improving vision and reducing the chances of post‐surgical inflammation and complications. At this time, there is not enough data to conclude whether additional types of lenses are preferable to other types. Quality of the evidence Because the trials included small numbers of participants in each of the four lens‐type groups, there is uncertainty in the results of the studies.\n",
      "\n",
      "Notes: [Eyes and Vision]\n",
      "\n",
      "URL: http://dx.doi.org/10.1002/14651858.CD007284.pub2\n",
      "\n",
      "\n",
      "\n",
      "\n",
      "\n",
      "Reference Type:  Journal Article\n",
      "\n",
      "Record Number: 31426\n",
      "\n",
      "Author: Nava, F., Ghilotti, F., Maggi, L., Hatemi, G., Del Bianco, A., Merlo, C., Filippini, G. and Tramacere, I.\n",
      "\n",
      "Year: 2014\n",
      "\n",
      "Title: Biologics, colchicine, corticosteroids, immunosuppressants and interferon‐alpha for Neuro‐Behçet's Syndrome\n",
      "\n",
      "Journal: Cochrane Database of Systematic Reviews\n",
      "\n",
      "Issue: 12\n",
      "\n",
      "Short Title: Biologics, colchicine, corticosteroids, immunosuppressants and interferon‐alpha for Neuro‐Behçet's Syndrome\n",
      "\n",
      "ISSN: 1465-1858\n",
      "\n",
      "DOI: 10.1002/14651858.CD010729.pub2\n",
      "\n",
      "Accession Number: CD010729\n",
      "\n",
      "Keywords: Adrenal Cortex Hormones [therapeutic use]\n",
      "\n",
      "Behcet Syndrome [complications, *drug therapy]\n",
      "\n",
      "Biological Products [therapeutic use]\n",
      "\n",
      "Central Nervous System Diseases [*drug therapy, etiology]\n",
      "\n",
      "Colchicine [therapeutic use]\n",
      "\n",
      "Humans\n",
      "\n",
      "Immunosuppressive Agents [therapeutic use]\n",
      "\n",
      "Interferon‐alpha [therapeutic use]\n",
      "\n",
      "Abstract: - Background Neuro‐Behçet Syndrome (NBS) is a severe chronic inflammatory vascular disease involving the Central Nervous System (CNS), and it is an invalidating condition with disability and a huge impact on quality of life. Recommendations on treatments for NBS include the use of disease‐modifying therapies in general, although they are not supported by a systematic review of the evidence. Objectives To assess the benefit and harms of available treatments for NBS, including biologics, colchicine, corticosteroids, immunosuppressants and interferon‐alpha. Search methods We searched the following databases up to 30 September 2014: Trials Specialised Register of The Cochrane Multiple Sclerosis and Rare Diseases of the Central Nervous System Group, CENTRAL, MEDLINE, EMBASE, CINAHL, LILACS, ORPHANET, Clinicaltrials.gov and World Health Organization (WHO) International Clinical Trials Registry Portal. Selection criteria Randomised controlled trials (RCTs), controlled clinical trials (CCTs), prospective and retrospective controlled cohort studies were eligible to assess the benefit. Patients over 13 years of age with a diagnosis of NBS. For assessment of harms, open‐label extension (OLE), case‐control studies, population‐based registries, case‐series and case‐reports were additionally planned to be evaluated. Data collection and analysis Selection of studies, data extraction and assessment of risk of bias were planned to be carried out independently by two review authors. Standard methodological procedures expected by The Cochrane Collaboration were followed. We planned to perform standard pair‐wise meta‐analyses for RCTs, and meta‐analyses based on the adjusted estimates using the inverse‐variance weighted average method for non‐randomised studies (NRSs). We planned to present the main results of the review in a 'Summary of Findings' table using the GRADE approach. Main results No RCTs, CCTs or controlled cohort studies on the benefit of the treatments for NBS met the inclusion criteria of the review. Only one potentially eligible study was identified, but it did not report sufficient details on the patient characteristics. The author of this study did not provide additional data on request, and therefore it was excluded. Hence, no studies were included in the present review. Since no studies were included in the assessment of benefit, no further search was performed in order to collect data on harms. Authors' conclusions There is no evidence to support or refute the benefit of biologics, colchicine, corticosteroids, immunosuppressants and interferon‐alpha for the treatment of patients with NBS. Thus, well‐designed multicentre RCTs are needed in order to inform and guide clinical practice. Plain language summary Modifying therapies such as biologics, colchicine, corticosteroids, immunosuppressants and interferon‐alpha for Neuro‐Behçet's Syndrome Neuro‐Behçet Syndrome (NBS) is an invalidating condition with a huge impact on quality of life. Recommendations on treatments for NBS include the use of disease‐modifying therapies such as biologics, colchicine, corticosteroids, immunosuppressants and interferon‐alpha. To assess their benefit and harms, the review authors decided to perform a systematic review of the available treatments for NBS. No studies were found that met the inclusion criteria of this review, indicating that there is no evidence to support or refute the benefit of these treatments for patients with NBS. Thus, well‐conducted research is required before an evidence‐based recommendation can be supported.\n",
      "\n",
      "Notes: [Multiple Sclerosis and Rare Diseases of the CNS]\n",
      "\n",
      "URL: http://dx.doi.org/10.1002/14651858.CD010729.pub2\n",
      "\n",
      "\n",
      "\n",
      "\n",
      "\n",
      "Reference Type:  Journal Article\n",
      "\n",
      "Record Number: 31432\n",
      "\n",
      "Author: Pradhan, E., Bhandari, S., Gilbert, R. E. and Stanford, M.\n",
      "\n",
      "Year: 2016\n",
      "\n",
      "Title: Antibiotics versus no treatment for toxoplasma retinochoroiditis\n",
      "\n",
      "Journal: Cochrane Database of Systematic Reviews\n",
      "\n",
      "Issue: 5\n",
      "\n",
      "Short Title: Antibiotics versus no treatment for toxoplasma retinochoroiditis\n",
      "\n",
      "ISSN: 1465-1858\n",
      "\n",
      "DOI: 10.1002/14651858.CD002218.pub2\n",
      "\n",
      "Accession Number: CD002218\n",
      "\n",
      "Keywords: Administration, Oral\n",
      "\n",
      "Adult\n",
      "\n",
      "Anti‐Bacterial Agents [administration & dosage, *therapeutic use]\n",
      "\n",
      "Child\n",
      "\n",
      "Chorioretinitis [*drug therapy, parasitology]\n",
      "\n",
      "Drug Combinations\n",
      "\n",
      "Humans\n",
      "\n",
      "Pyrimethamine [therapeutic use]\n",
      "\n",
      "Randomized Controlled Trials as Topic\n",
      "\n",
      "Recurrence\n",
      "\n",
      "Secondary Prevention\n",
      "\n",
      "Sulfadiazine [therapeutic use]\n",
      "\n",
      "Sulfamerazine [therapeutic use]\n",
      "\n",
      "Sulfamethazine [therapeutic use]\n",
      "\n",
      "Toxoplasmosis, Ocular [complications, *drug therapy]\n",
      "\n",
      "Trimethoprim, Sulfamethoxazole Drug Combination [administration & dosage, therapeutic use]\n",
      "\n",
      "Visual Acuity\n",
      "\n",
      "Watchful Waiting\n",
      "\n",
      "Abstract: - Background Acute toxoplasma retinochoroiditis causes transient symptoms of ocular discomfort and may lead to permanent visual loss. Antibiotic treatment aims primarily to reduce the risk of permanent visual loss, recurrent retinochoroiditis, and the severity and duration of acute symptoms. There is uncertainty about the effectiveness of antibiotic treatment. Objectives To compare the effects of antibiotic treatment versus placebo or no treatment for toxoplasma retinochoroiditis. Search methods We searched CENTRAL (which contains the Cochrane Eyes and Vision group Trials Register) (2016, Issue 1), Ovid MEDLINE, Ovid MEDLINE In‐Process and Other Non‐Indexed Citations, Ovid MEDLINE Daily, Ovid OLDMEDLINE (January 1946 to February 2016), EMBASE (January 1980 to February 2016), Latin American and Caribbean Health Sciences Literature Database (LILACS) (January 1982 to February 2016), the ISRCTN registry ( www.isrctn.com/editAdvancedSearch ), ClinicalTrials.gov ( www.clinicaltrials.gov ), and the World Health Organization (WHO) International Clinical Trials Registry Platform (ICTRP) ( www.who.int/ictrp/search/en ). We did not use any date or language restrictions in the electronic searches for trials. We last searched the electronic databases on 22 February 2016. We searched the reference lists of identified articles and contacted pharmaceutical companies for unpublished trials. Selection criteria We included randomised controlled trials that compared any antibiotic treatment against placebo or no treatment. We excluded trials that included immunocompromised participants. We considered any antibiotic treatment known to be active against Toxoplasma gondii. Antibiotic treatment could be given in any dose orally, by intramuscular injection, by intravenous infusion, or by intravitreal injection. Data collection and analysis The primary outcomes for this review were visual acuity at least three months after treatment and risk of recurrent retinochoroiditis. Secondary outcomes were improvement in symptoms and signs of intraocular inflammation, size of lesion, and adverse events. We used standard methodological procedures expected by Cochrane. Main results Four trials that randomised a total of 268 participants met the inclusion criteria. In all four studies antibiotic was administered orally. One study conducted in Brazil in both adults and children compared trimethoprim‐sulfamexacocol over 20 months to no treatment and was judged to be at high risk of performance, detection, and attrition bias. The other three studies compared antibiotic treatment to placebo. We judged these three studies to be at a mixture of low or unclear risk of bias due to poor reporting. One study conducted in the US in adults studied pyrimethamine‐trisulfapyrimidine for eight weeks; one study conducted in the UK in children and adults evaluated pyrimethamine for four weeks; and one study conducted in Brazil in adults investigated trimethoprim‐sulfamethoxazole for 12 months. In the last study, all participants had active retinochoroiditis and were treated with antibiotics for 45 days prior to randomisation to trimethoprim‐sulfamethoxazole versus placebo. Only the study in Brazil of trimethoprim‐sulfamethoxazole over 12 months, in participants with healed lesions, reported the effect of treatment on visual acuity. People treated with antibiotics may have a similar change in visual acuity compared with people treated with placebo at one year (mean difference ‐1.00 letters, 95% confidence interval (CI) ‐7.93 to 5.93 letters; 93 participants; low‐quality evidence). Treatment with antibiotics probably reduces the risk of recurrent retinochoroiditis compared with placebo (risk ratio (RR) 0.26, 95% CI 0.11 to 0.63; 227 participants; 3 studies; I 2 = 0%; moderate‐quality evidence); similar results were seen for acute and chronic retinochoroiditis. The UK study of pyrimethamine for four weeks reported an improvement in intraocular inflammation in treated compared with control participants (RR 1.76, 95% CI 0.98 to 3.19; 29 part cipants; low‐quality evidence). The study in Brazil of trimethoprim‐sulfamethoxazole for 12 months stated that the severity of inflammation was higher in the comparator group when compared to the antibiotic‐treated group but did not provide further details. In the US study of pyrimethamine‐trisulfapyrimidine for eight weeks intraocular inflammation had almost completely resolved by eight weeks in all participants, however in this study all participants received steroid treatment. Two studies (UK and US studies) reported an increased risk of adverse events in treated participants. These were a fall in haemoglobin, leucocyte, and platelet count, nausea, loss of appetite, rash, and arthralgia. Authors' conclusions Treatment with antibiotics probably reduces the risk of recurrent toxoplasma retinochoroiditis, but there is currently no good evidence that this leads to better visual outcomes. However, absence of evidence of effect is not the same as evidence of no effect. Further trials of people with acute and chronic toxoplasma retinochoroiditis affecting any part of the retina are required to determine the effects of antibiotic treatment on visual outcomes. Plain language summary Antibiotics compared with no treatment or placebo for the treatment of toxoplasma retinochoroiditis Review question  ",
      " Are antibiotics an effective treatment for toxoplasma retinochoroiditis? Background  ",
      " Toxoplasma retinochoroiditis occurs when a parasite called Toxoplasma gondii gets into the retina (the light‐sensitive layer inside the eye) and the choroid (layer of the eyeball near the retina). This causes inflammation that can scar the retina and reduce vision. Symptoms include a sudden feeling of discomfort in the eye and loss of vision, which usually resolve spontaneously within six to eight weeks. The infection can keep returning, increasing the chances of damage. Antibiotics are sometimes used to try to reduce the inflammation and scarring, or to prevent the infection from re‐emerging, but it is unclear how well they work. Study characteristics  ",
      " We found four studies with a total of 268 participants. These studies were conducted in Brazil, the UK, and the US. The evidence is current to 22 February 2016. Key results  ",
      " Only one of the four studies compared the effect of antibiotic treatment for 12 months with placebo on visual acuity and found similar changes in both groups. Three studies examined the effect of antibiotics on reducing the number of recurring episodes of the disease. Two of these three studies were conducted in Brazil in adults infected with the more aggressive South American strains of the parasite, which can cause frequently recurring eye symptoms. The studies from Brazil found that the long‐term antibiotics over 14 and 12 months, respectively, reduced the number of recurrent episodes of retinochoroiditis. The other study did not find that short‐term (eight weeks) treatment with antibiotics made any difference. Two studies reported an improvement in intraocular inflammation in antibiotic‐treated compared with untreated participants, and one study reported no changes. Two studies investigated side effects of giving antibiotics such as decreased white blood cells, loss of appetite, rashes and other allergic reactions and found only weak evidence that antibiotics increase the risk of side effects. Quality of the evidence There were problems with the design, conduct, and analyses of all of the studies, which could have biased the results. There was a lack of evidence about whether antibiotics (short or long term) prevent vision loss. More trials are needed, including trials of newer antibiotics.\n",
      "\n",
      "Notes: [Eyes and Vision]\n",
      "\n",
      "URL: http://dx.doi.org/10.1002/14651858.CD002218.pub2\n",
      "\n",
      "\n",
      "\n",
      "\n",
      "\n",
      "Reference Type:  Journal Article\n",
      "\n",
      "Record Number: 31427\n",
      "\n",
      "Author: Taylor, J., Glenny, A. M., Walsh, T., Brocklehurst, P., Riley, P., Gorodkin, R. and Pemberton, M. N.\n",
      "\n",
      "Year: 2014\n",
      "\n",
      "Title: Interventions for managing oral ulcers in Behçet's disease\n",
      "\n",
      "Journal: Cochrane Database of Systematic Reviews\n",
      "\n",
      "Issue: 9\n",
      "\n",
      "Short Title: Interventions for managing oral ulcers in Behçet's disease\n",
      "\n",
      "ISSN: 1465-1858\n",
      "\n",
      "DOI: 10.1002/14651858.CD011018.pub2\n",
      "\n",
      "Accession Number: CD011018\n",
      "\n",
      "Keywords: Acyclovir [therapeutic use]\n",
      "\n",
      "Adrenal Cortex Hormones [therapeutic use]\n",
      "\n",
      "Alanine [analogs & derivatives, therapeutic use]\n",
      "\n",
      "Behcet Syndrome [*complications, drug therapy]\n",
      "\n",
      "Colchicine [therapeutic use]\n",
      "\n",
      "Cyclosporine [therapeutic use]\n",
      "\n",
      "Etanercept\n",
      "\n",
      "Humans\n",
      "\n",
      "Immunoglobulin G [therapeutic use]\n",
      "\n",
      "Interferon‐alpha [therapeutic use]\n",
      "\n",
      "Oral Ulcer [drug therapy, etiology]\n",
      "\n",
      "Quinolones [therapeutic use]\n",
      "\n",
      "Randomized Controlled Trials as Topic\n",
      "\n",
      "Receptors, Tumor Necrosis Factor [therapeutic use]\n",
      "\n",
      "Stomatitis, Aphthous [*drug therapy, etiology]\n",
      "\n",
      "Sucralfate [therapeutic use]\n",
      "\n",
      "Thalidomide [therapeutic use]\n",
      "\n",
      "Abstract: - Background Behçet's disease is a chronic inflammatory vasculitis that can affect multiple systems. Mucocutaneous involvement is common, as is the involvement of many other systems such as the central nervous system and skin. Behç̧et's disease can cause significant morbidity, such as loss of sight, and can be life threatening. The frequency of oral ulceration in Behçet's disease is thought to be 97% to 100%. The presence of mouth ulcers can cause difficulties in eating, drinking, and speaking leading to a reduction in quality of life. There is no cure for Behçet's disease and therefore treatment of the oral ulcers that are associated with Behçet's disease is palliative. Objectives To determine the clinical effectiveness and safety of interventions on the pain, episode duration, and episode frequency of oral ulcers and on quality of life for patients with recurrent aphthous stomatitis (RAS)‐type ulceration associated with Behçet's disease. Search methods We undertook electronic searches of the Cochrane Oral Health Group Trials Register (to 4 October 2013); the Cochrane Central Register of Controlled Trials (CENTRAL) (The Cochrane Library 2013, Issue 9); MEDLINE via Ovid (1946 to 4 October 2013); EMBASE via Ovid (1980 to 4 October 2013); CINAHL via EBSCO (1980 to 4 October 2013); and AMED via Ovid (1985 to 4 October 2013). We searched the US National Institutes of Health trials register ( http://clinicaltrials.gov ) and the World Health Organization (WHO) Clinical Trials Registry Platform for ongoing trials. There were no restrictions on language or date of publication in the searches of the electronic databases. We contacted authors when necessary to obtain additional information. Selection criteria We included randomised controlled trials (RCTs) that looked at pre‐specified oral outcome measures to assess the efficacy of interventions for mouth ulcers in Behçet's disease. The oral outcome measures included pain, episode duration, episode frequency, safety, and quality of life. Trials were not restricted by outcomes alone. Data collection and analysis All studies meeting the inclusion criteria underwent data extraction and an assessment of risk of bias, independently by two review authors and using a pre‐standardised data extraction form. We used standard methodological procedures expected by Cochrane. Main results A total of 15 trials (n = 888 randomised participants) were included, 13 were placebo controlled and three were head to head (two trials had more than two treatment arms). Eleven of the trials were conducted in Turkey, two in Japan, one in Iran and one in the UK. Most trials used the International Study Group criteria for Behçet's disease. Eleven different interventions were assessed. The interventions were grouped into two categories, topical and systemic. Only one study was assessed as being at low risk of bias. It was not possible to carry out a meta‐analysis. The quality of the evidence ranged from moderate to very low and there was insufficient evidence to support or refute the use of any included intervention with regard to pain, episode duration, or episode frequency associated with oral ulcers, or safety of the interventions. Authors' conclusions Due to the heterogeneity of trials including trial design, choice of intervention, choice and timing of outcome measures, it was not possible to carry out a meta‐analysis. Several interventions show promise and future trials should be planned and reported according to the CONSORT guidelines. Whilst the primary aim of many trials for Behç̧et's disease is not necessarily reduction of oral ulceration, reporting of oral ulcers in these studies should be standardised and pre‐specified in the methodology. The use of a core outcome set for oral ulcer trials would be beneficial. Plain language summary Interventions for managing oral ulcers in Behçet's disease Review question This review has been conducted to assess the effects of different interventions, administered systemically or topically, for the prevention or treatment of ral ulcers in people with Behçet's disease. The interventions could be compared with an alternative intervention, no intervention or the administration of a placebo. Background Behçet's disease is a chronic disease characterised by a multitude of signs and symptoms including oral and genital ulcerations, skin lesions and inflammatory vascular involvement of the central nervous system and gastrointestinal tract. Although the underlying cause of Behçet’s disease is unknown it is thought to involve a genetic predisposition combined with environmental factors. Behçet's disease most commonly presents in the third decade. The disease is rare in individuals older than age 50 years and during childhood. Although both sexes are equally affected, it is thought that the disease has a more severe course amongst men. The oral ulceration that occurs in Behçet's disease can be painful and slow to heal. At its worst, this can cause significant difficulties in eating and drinking. Study characteristics Authors from Cochrane Oral Health carried out this review of existing studies and the evidence is current up to 4 October 2013. The review includes 15 studies published from 1980 to 2012 in which 888 participants were randomised. Eleven of the trials were conducted in Turkey, two in Japan, one in Iran, and one in the UK. Thirteen different interventions were assessed, administered either topically or systemically. Topical interventions: sucralfate, interferon–alpha (different doses), cyclosporin A, triamcinolone acetonide ointment, phenytoin syrup mouthwash. Systemic interventions: aciclovir, thalidomide (different doses), corticosteroids, rebamipide, etanercept, colchicine, interferon–alpha, cyclosporin. Key results There was insufficient evidence to support or refute the use of any included intervention with regard to pain, episode duration or episode frequency associated with oral ulcers, or the safety of the interventions. Quality of the evidence The quality of the evidence ranged from moderate to very low.\n",
      "\n",
      "Notes: [Oral Health]\n",
      "\n",
      "URL: http://dx.doi.org/10.1002/14651858.CD011018.pub2\n",
      "\n",
      "\n",
      "\n",
      "\n",
      "\n"
     ]
    }
   ],
   "source": [
    "# myfile = open(filename, \"r\")\n",
    "# myline = myfile.readline()\n",
    "\n",
    "# while myline:\n",
    "#     print(myline)\n",
    "#     myline = myfile.readline()\n",
    "    \n",
    "# myfile.close()  \n",
    "\n",
    "with open(filename) as f:\n",
    "    myline = f.readline()\n",
    "    while myline:\n",
    "        print(myline)\n",
    "        myline = f.readline()\n",
    "    "
   ]
  },
  {
   "cell_type": "code",
   "execution_count": 43,
   "id": "31a54ec8-5d5a-47b4-92cd-543c5976121b",
   "metadata": {
    "collapsed": true,
    "jupyter": {
     "outputs_hidden": true
    },
    "tags": []
   },
   "outputs": [
    {
     "data": {
      "text/plain": [
       "['\\ufeffReference Type:  Journal Article\\n',\n",
       " 'Record Number: 31428\\n',\n",
       " 'Author: Barry, R. J., Tallouzi, M. O., Bucknall, N., Mathers, J. M., Murray, P. I., Calvert, M. J., Moore, D. J. and Denniston, A. K.\\n',\n",
       " 'Year: 2018\\n',\n",
       " 'Title: Anti‐tumour necrosis factor biological therapies for the treatment of uveitic macular oedema (UMO) for non‐infectious uveitis\\n',\n",
       " 'Journal: Cochrane Database of Systematic Reviews\\n',\n",
       " 'Issue: 12\\n',\n",
       " 'Short Title: Anti‐tumour necrosis factor biological therapies for the treatment of uveitic macular oedema (UMO) for non‐infectious uveitis\\n',\n",
       " 'ISSN: 1465-1858\\n',\n",
       " 'DOI: 10.1002/14651858.CD012577.pub2\\n',\n",
       " 'Accession Number: CD012577\\n',\n",
       " 'Keywords: Humans\\n',\n",
       " 'Macular Edema [*drug therapy, etiology]\\n',\n",
       " 'Off‐Label Use\\n',\n",
       " 'Tumor Necrosis Factor‐alpha [*antagonists & inhibitors]\\n',\n",
       " 'Uveitis [*complications]\\n',\n",
       " \"Abstract: - Background Non‐infectious uveitis describes a heterogenous group of ocular disorders characterised by intraocular inflammation in the absence of infection. Uveitis is a leading cause of visual loss, most commonly due to uveitic macular oedema (UMO). Treatment is aimed at reducing disease activity by suppression of the intraocular inflammatory response. In the case of macular oedema, the aim is to restore macular architecture as quickly as possible, in order to prevent irreversible photoreceptor damage in this area. Acute exacerbations are typically managed with corticosteroids, which may be administered topically, locally or systemically. Whilst these are often rapidly effective in achieving disease control, long‐term use is associated with significant local and systemic side effects, and 'steroid sparing agents' are typically used to achieve prolonged control in severe or recalcitrant disease. Anti‐tumour necrosis factor (TNF) drugs block a critical cytokine in the inflammatory signalling process, and have emerged as effective steroid‐sparing immunomodulatory agents in a wide range of non‐ocular conditions. There is mechanistic data to suggest that they may provide a more targeted approach to disease control in UMO than other agents, but to date, these agents have predominantly been used 'off label' as the majority are not licensed for ocular use. This review aims to summarise the available literature reporting the use of anti‐TNF therapy in UMO, thus developing the evidence‐base on which to make future treatment decisions and develop clinical guidelines in this area. Objectives To assess the efficacy of anti‐TNF therapy in treatment of UMO. Search methods We searched the Cochrane Central Register of Controlled Trials (CENTRAL; 2018, Issue 2), which contains the Cochrane Eyes and Vision Trials Register; Ovid MEDLINE; Ovid Embase; LILACS; Web of Science Conference Proceedings Citation Index‐ Science (CPCI‐S); System for Information on Grey Literature in Europe (OpenGrey); the ISRCTN registry; ClinicalTrials.gov and the WHO ICTRP. The date of the search was 29 March 2018. Selection criteria We planned to include all relevant randomised controlled trials assessing the use of anti‐TNF agents in treatment of UMO. No limits were applied to participant age, gender or ethnicity. The primary comparisons of this review were: anti‐TNF versus no treatment or placebo; anti‐TNF versus another pharmacological agent; comparison of different anti‐TNF drugs; comparison of different doses and routes of administration of the same anti‐TNF drug. The primary outcome measure that we assessed for this review was best‐corrected visual acuity (BCVA) in the treated eye. Secondary outcome measures were anatomical macular change, clinical estimation of vitreous haze and health‐related quality of life. Data collection and analysis Two review authors independently screened titles and abstracts retrieved through the database searches. We retrieved full‐text reports of studies categorised as 'unsure' or 'include' after we had reviewed the abstracts. Two review authors independently reviewed each full‐text report for eligibility. We resolved discrepancies through discussion. Main results We identified no completed or ongoing trial that was eligible for this Cochrane Review. Authors' conclusions Our review did not identify any evidence from randomised controlled trials for or against the role of anti���TNF agents in the management of UMO. Although there are a number of high‐quality randomised controlled trials that demonstrate the efficacy of anti‐TNF agents in preventing recurrence of inflammation in uveitis, the reported study outcomes do not include changes in UMO. As a result, there were insufficient data to conclude whether there was a significant treatment effect specifically for UMO. Future trials should be designed to include quantitative measures of UMO as primary study outcomes, for example by reporting the presence or absence of UMO, or by measuring central macular thickness for study participants. Furthermore, whilst UMO is an important complication of uveitis, we acknowledge that uveitis is associated with many significant structural and functional complications. It is not possible to determine treatment efficacy based on a single outcome measure. We recommend that future reviews of therapeutic interventions in uveitis should use composite measures of treatment response comprising a range of potential complications of disease. Plain language summary Anti‐tumour necrosis factor medication for treating swelling at the back of the eye (macular oedema) due to inflammatory eye disease (uveitis) What is the aim of this review? \\u2028 The aim of this Cochrane Review was to find out whether a new class of drugs (anti‐tumour necrosis factor agents) is effective in treating swelling at the back of the eye (macular oedema) caused by inflammation in the eye (uveitis). Cochrane Review authors searched for all relevant studies to address this question, but found no suitable studies for inclusion. Key messages \\u2028 There is currently no evidence for or against the use of anti‐tumour necrosis factor agents in treatment of macular oedema in uveitis. What was studied in this review? \\u2028 Uveitis is a group of eye conditions where there is inflammation within the eye. If there is inflammation at the back of the eye (macula) this can cause swelling (macular oedema). Macula oedema can lead to loss of vision, Uveitis is often treated with steroids to control the inflammation and avoid damage to the eye. But steroids have potentially serious side effects, and doctors do not recommend long‐term use. 'Steroid‐sparing agents' are medications with similar anti‐inflammatory effects to steroids, but with fewer side effects. They are preferred when people with uveitis need long‐term treatment. Anti‐tumour necrosis factor agents are a new type of steroid‐sparing agent. They have been used for other conditions. Cochrane researchers wanted to find out if these agents are useful in the treatment of macular oedema in uveitis. What are the main results of the review? \\u2028 Cochrane Review authors searched multiple electronic databases for studies of the use of anti‐tumour necrosis factor medications in macular oedema due to uveitis. They found no relevant studies. There are some studies that show that these drugs are effective in controlling inflammation in the eye, but none of these specifically investigated macular oedema. More research is needed to help informed decision‐making in this area. How up‐to‐date is this review? \\u2028 Cochrane Review authors searched for studies that had been published up to 29 March 2018.\\n\",\n",
       " 'Notes: [Eyes and Vision]\\n',\n",
       " 'URL: http://dx.doi.org/10.1002/14651858.CD012577.pub2\\n',\n",
       " '\\n',\n",
       " '\\n',\n",
       " 'Reference Type:  Journal Article\\n',\n",
       " 'Record Number: 31431\\n',\n",
       " 'Author: Brady, C. J., Villanti, A. C., Law, H. A., Rahimy, E., Reddy, R., Sieving, P. C., Garg, S. J. and Tang, J.\\n',\n",
       " 'Year: 2016\\n',\n",
       " 'Title: Corticosteroid implants for chronic non‐infectious uveitis\\n',\n",
       " 'Journal: Cochrane Database of Systematic Reviews\\n',\n",
       " 'Issue: 2\\n',\n",
       " 'Short Title: Corticosteroid implants for chronic non‐infectious uveitis\\n',\n",
       " 'ISSN: 1465-1858\\n',\n",
       " 'DOI: 10.1002/14651858.CD010469.pub2\\n',\n",
       " 'Accession Number: CD010469\\n',\n",
       " 'Keywords: Adrenal Cortex Hormones [*administration & dosage]\\n',\n",
       " 'Adult\\n',\n",
       " 'Chronic Disease\\n',\n",
       " 'Drug Implants\\n',\n",
       " 'Humans\\n',\n",
       " 'Immunosuppressive Agents [administration & dosage]\\n',\n",
       " 'Prednisolone [*administration & dosage]\\n',\n",
       " 'Randomized Controlled Trials as Topic\\n',\n",
       " 'Recurrence\\n',\n",
       " 'Standard of Care\\n',\n",
       " 'Uveitis [*drug therapy]\\n',\n",
       " \"Abstract: - Background Uveitis is a term used to describe a heterogeneous group of intraocular inflammatory diseases of the anterior, intermediate, and posterior uveal tract (iris, ciliary body, choroid). Uveitis is the fifth most common cause of vision loss in high‐income countries, accounting for 5% to 20% of legal blindness, with the highest incidence of disease in the working‐age population. Corticosteroids are the mainstay of acute treatment for all anatomical subtypes of non‐infectious uveitis and can be administered orally, topically with drops or ointments, by periocular (around the eye) or intravitreal (inside the eye) injection, or by surgical implantation. Objectives To determine the efficacy and safety of steroid implants in people with chronic non‐infectious posterior uveitis, intermediate uveitis, and panuveitis. Search methods We searched CENTRAL (which contains the Cochrane Eyes and Vision Trials Register) (Issue 10, 2015), Ovid MEDLINE, Ovid MEDLINE In‐Process and Other Non‐Indexed Citations, Ovid MEDLINE Daily, Ovid OLDMEDLINE (January 1946 to November 2015), EMBASE (January 1980 to November 2015), PubMed (1948 to November 2015), Latin American and Caribbean Health Sciences Literature Database (LILACS) (1982 to November 2015), the meta Register of Controlled Trials ( m RCT) ( www.controlled‐trials.com ) (last searched 15 April 2013), ClinicalTrials.gov ( www.clinicaltrials.gov ), and the World Health Organization (WHO) International Clinical Trials Registry Platform (ICTRP) ( www.who.int/ictrp/search/en ). We did not use any date or language restrictions in the electronic search for studies. We last searched the electronic databases on 6 November 2015. We also searched reference lists of included study reports, citation databases, and abstracts and clinical study presentations from professional meetings. Selection criteria We included randomized controlled trials comparing either fluocinolone acetonide (FA) or dexamethasone intravitreal implants with standard‐of‐care therapy with at least six months of follow‐up after treatment. We included studies that enrolled participants of all ages who had chronic non‐infectious posterior uveitis, intermediate uveitis, or panuveitis with vision that was better than hand‐motion. Data collection and analysis Two review authors independently reviewed studies for inclusion. Two review authors independently extracted data and assessed the risk of bias for each study. Main results We included data from two studies (619 eyes of 401 participants) that compared FA implants with standard‐of‐care therapy. Both studies used similar standard‐of‐care therapy that included administration of prednisolone and, if needed, immunosuppressive agents. The studies included participants from Australia, France, Germany, Israel, Italy, Portugal, Saudi Arabia, Spain, Switzerland, Turkey, the United Kingdom, and the United States. We assessed both studies at high risk of performance and detection bias. Only one study reported our primary outcome, recurrence of uveitis at any point during the study through 24 months. The evidence, judged as moderate‐quality, showed that a FA implant probably prevents recurrence of uveitis compared with standard‐of‐care therapy (risk ratio (RR) 0.29, 95% confidence interval (CI) 0.14 to 0.59; 132 eyes). Both studies reported safety outcomes, and moderate‐quality evidence showed increased risks of needing cataract surgery (RR 2.98, 95% CI 2.33 to 3.79; 371 eyes) and surgery to lower intraocular pressure (RR 7.48, 95% CI 3.94 to 14.19; 599 eyes) in the implant group compared with standard‐of‐care therapy through two years of follow‐up. No studies compared dexamethasone implants with standard‐of‐care therapy. Authors' conclusions After considering both benefits and harms reported from two studies in which corticosteroids implants were compared with standard‐of‐care therapy, we are unable to conclude that the implants are superior to traditional systemic therapy for the treatment of non‐infectious uveit s. These studies exhibited heterogeneity in design and outcomes that measured efficacy. Pooled findings regarding safety outcomes suggest increased risks of post‐implant surgery for cataract and high intraocular pressure compared with standard‐of‐care therapy. Plain language summary Steroid implants for chronic uveitis not caused by infection Background \\u2028 Uveitis describes a group of eye diseases caused by inflammation (redness and swelling, etc.). Uveitis is the fifth most common cause of vision loss in high‐income countries, accounting for 5% (1 in 20 cases) to 20% (1 in 5 cases) of blindness, with the disease affecting mostly working‐age people. In low‐income countries, uveitis accounts for 2.4% (1 in 40 cases) to 24% (1 in 4 cases) of legal blindness. These figures are for all types of uveitis (infectious and non‐infectious uveitis), so the prevalence of non‐infectious uveitis (the focus of this review) is likely lower than these estimates. In this review, we were only able to focus on posterior uveitis, which occurs in a region in the back of the eye and may affect the choroid, retina, and/or vitreous. Posterior uveitis alone accounts for approximately 15% to 22% (1 in 4 to 6 cases) of uveitis cases and leads to approximately 10% (1 in 10 cases) of legal blindness in the United States. Posterior uveitis is primarily treated either with systemic (whole body, either by mouth or injection) or local (just near or inside the eye) medications that reduce inflammation, such as steroids. Review question \\u2028 We compared steroid devices implanted directly into the eye with standard‐of‐care therapy for non‐infectious posterior uveitis. We examined whether the steroid implants were better at treating uveitis, had fewer side effects, or both, than standard‐of‐care therapy. Study characteristics \\u2028 We included two randomized controlled trials that compared fluocinolone acetonide implants with standard‐of‐care therapy. These studies included 401 participants from Australia, France, Germany, Israel, Italy, Portugal, Saudi Arabia, Spain, Switzerland, Turkey, the United Kingdom, and the United States who were 6 years old or older and were followed for two years. The evidence is current to 6 November 2015. Key results \\u2028 Since the two studies were designed to answer slightly different questions about the fluocinolone implant, we were not able to combine data from both studies to compare how well the medications worked. However, we were able to do a combined analysis of the common side effects, which suggest that participants in the steroid implant group had more surgery for cataract (clouding of the lens of the eye) and for high eye pressure than participants in the non‐implant group. We were unable to determine whether the steroid implants were better than standard‐of‐care therapy. Quality of the evidence \\u2028 The overall quality of the presently available published evidence was moderate. This finding indicates that future published research is likely to have an important impact on the conclusions currently provided in this review.\\n\",\n",
       " 'Notes: [Eyes and Vision]\\n',\n",
       " 'URL: http://dx.doi.org/10.1002/14651858.CD010469.pub2\\n',\n",
       " '\\n',\n",
       " '\\n',\n",
       " 'Reference Type:  Journal Article\\n',\n",
       " 'Record Number: 31430\\n',\n",
       " 'Author: Davies, G. R., Cerri, S. and Richeldi, L.\\n',\n",
       " 'Year: 2007\\n',\n",
       " 'Title: Rifabutin for treating pulmonary tuberculosis\\n',\n",
       " 'Journal: Cochrane Database of Systematic Reviews\\n',\n",
       " 'Issue: 4\\n',\n",
       " 'Short Title: Rifabutin for treating pulmonary tuberculosis\\n',\n",
       " 'ISSN: 1465-1858\\n',\n",
       " 'DOI: 10.1002/14651858.CD005159.pub2\\n',\n",
       " 'Accession Number: CD005159\\n',\n",
       " 'Keywords: Antibiotics, Antitubercular [adverse effects, *therapeutic use]\\n',\n",
       " 'Humans\\n',\n",
       " 'Randomized Controlled Trials as Topic\\n',\n",
       " 'Rifabutin [adverse effects, *therapeutic use]\\n',\n",
       " 'Rifampin [therapeutic use]\\n',\n",
       " 'Tuberculosis, Pulmonary [*drug therapy]\\n',\n",
       " 'Uveitis [chemically induced]\\n',\n",
       " \"Abstract: - Background Rifamycins are an essential component of modern short‐course regimens for treating tuberculosis. Rifabutin has favourable pharmacokinetic and pharmacodynamic properties and is less prone to drug−drug interactions than rifampicin. It could contribute to shortening of therapy or simplify treatment in HIV‐positive people who also need antiretroviral drugs. Objectives To compare combination drug regimens containing rifabutin with those containing rifampicin for treating pulmonary tuberculosis Search methods We searched Cochrane Infectious Diseases Group Specialized Register (July 2009), CENTRAL ( The Cochrane Library 2009, Issue 3), MEDLINE (1966 to July 2009), EMBASE (1974 to July 2009), and LILACS (1982 to July 2009). We also searched the Indian Journal of Tuberculosis (1983 to 2006), conference abstracts, reference lists, and unpublished data on file at Pfizer Inc. Selection criteria Randomized and quasi‐randomized trials including participants with sputum smear and/or culture‐confirmed tuberculosis that compared a rifabutin‐containing with an otherwise identical rifampicin‐containing regimen. Data collection and analysis Two authors independently assessed study eligibility and methodological quality, and extracted data. Dichotomous data were analysed and combined using relative risks (RR) with 95% confidence intervals (CI) using a fixed‐effect model. Subgroup analyses were carried out according to rifabutin dose. Main results Five trials with a total of 924 participants met the inclusion criteria; 5% of participants were HIV positive. Only one small trial was methodologically adequate. The two largest trials (818 participants) had unclear allocation concealment and included < 90% of randomized participants in the analysis. There was no statistically significant difference in between the regimens for cure (RR 1.00, 95% CI 0.96 to 1.04; 553 participants, 2 trials) or relapse (RR 1.23, 95% CI 0.45 to 3.35; 448 participants, 2 trials). The number of adverse events was not significantly different (RR 1.42, 95% CI 0.88 to 2.31; 714 participants, 3 trials), though the RR increased with rifabutin dose: 150 mg (RR 0.98, 95% CI 0.45 to 2.12; 264 participants, 2 trials); and 300 mg (RR 1.78, 95% CI 0.94 to 3.34; 450 participants, 2 trials). However, lack of dose adjustment by weight in the relevant trials complicates interpretation of this relationship. Authors' conclusions The replacement of rifampicin by rifabutin for first‐line treatment of tuberculosis is not supported by the current evidence. HIV‐positive people with tuberculosis, the group most likely to benefit from the rifabutin use, are under‐represented in trials to date, and further trials in this group would be useful. 25 May 2018 No update planned Research area no longer active This research area is no longer active Plain language summary Rifabutin for treating pulmonary tuberculosis Among current challenges in tuberculosis treatment are reducing the length of time that drugs must be taken to less than six months and finding ways to safely combine tuberculosis drugs with those used in the treatment of HIV infection. Rifabutin is a drug that has the potential to address these issues if substituted for rifampicin, a mainstay of current treatment. This review identified five trials involving 924 people, but none were of high quality. The review found no significant differences between rifabutin‐ and rifampicin‐containing treatment in curing tuberculosis and preventing relapse, but higher doses of rifabutin might be associated with more adverse effects and there was no evidence that it could shorten treatment. However, very few people with HIV and tuberculosis, who are most likely to benefit from use of rifabutin due to its lack of interaction with antiretroviral drugs, were included in the trials. Better quality clinical trials are needed to understand the place of rifabutin in the treatment of people with tuberculosis, particularly those who also have HIV.\\n\",\n",
       " 'Notes: [Infectious Diseases]\\n',\n",
       " 'URL: http://dx.doi.org/10.1002/14651858.CD005159.pub2\\n',\n",
       " '\\n',\n",
       " '\\n',\n",
       " 'Reference Type:  Journal Article\\n',\n",
       " 'Record Number: 31429\\n',\n",
       " 'Author: Leung, T. G., Lindsley, K. and Kuo, I. C.\\n',\n",
       " 'Year: 2014\\n',\n",
       " 'Title: Types of intraocular lenses for cataract surgery in eyes with uveitis\\n',\n",
       " 'Journal: Cochrane Database of Systematic Reviews\\n',\n",
       " 'Issue: 3\\n',\n",
       " 'Short Title: Types of intraocular lenses for cataract surgery in eyes with uveitis\\n',\n",
       " 'ISSN: 1465-1858\\n',\n",
       " 'DOI: 10.1002/14651858.CD007284.pub2\\n',\n",
       " 'Accession Number: CD007284\\n',\n",
       " 'Keywords: *Lenses, Intraocular [classification]\\n',\n",
       " 'Adult\\n',\n",
       " 'Cataract Extraction [*methods]\\n',\n",
       " 'Cataract [etiology]\\n',\n",
       " 'Humans\\n',\n",
       " 'Randomized Controlled Trials as Topic\\n',\n",
       " 'Uveitis [*complications]\\n',\n",
       " 'Visual Acuity\\n',\n",
       " \"Abstract: - Background Cataract formation often occurs in people with uveitis. It is unclear which intraocular lens (IOL) type is optimal for use in cataract surgery for eyes with uveitis. Objectives To summarize the effects of different IOLs on visual acuity, other visual outcomes, and quality of life in people with uveitis. Search methods We searched CENTRAL (which contains the Cochrane Eyes and Vision Group Trials Register) ( The Cochrane Library 2013, Issue 7), Ovid MEDLINE, Ovid MEDLINE In‐Process and Other Non‐Indexed Citations, Ovid MEDLINE Daily, Ovid OLDMEDLINE (January 1946 to August 2013), EMBASE (January 1980 to August 2013), Latin American and Caribbean Literature on Health Sciences (LILACS) (January 1982 to August 2013), the meta Register of Controlled Trials ( m RCT) ( www.controlled‐trials.com ), ClinicalTrials.gov ( www.clinicaltrials.gov ) and the WHO International Clinical Trials Registry Platform (ICTRP) ( www.who.int/ictrp/search/en ). We did not use any date or language restrictions in the electronic searches for trials. We last searched the electronic databases on 14 August 2013. We also performed forward and backward searching using the Science Citation Index and the reference lists of the included studies, respectively, in August 2013. Selection criteria We included randomized controlled trials (RCTs) comparing hydrophobic or hydrophilic acrylic, silicone, or poly(methyl methacrylate) (PMMA) IOLs with or without heparin‐surface modification (HSM), with each other, or with no treatment in adults with uveitis, for any indication, undergoing cataract surgery. Data collection and analysis We used standard methodological procedures expected by The Cochrane Collaboration. Two review authors screened the search results and for included studies, assessed the risk of bias and extracted data independently. We contacted study investigators for additional information. We did not perform a meta‐analysis due to variability in reporting and follow‐up intervals for the primary and secondary outcomes of interest. Main results We included four RCTs involving 216 participants (range of 2 to 140 participants with uveitic cataract per trial) and comparing up to four types of IOLs. The largest study was an international study with centers in Brazil, Egypt, Finland, France, Japan, the Netherlands, Slovak Republic, Spain, and the USA; two studies were conducted in Germany and one in Saudi Arabia. There was substantial heterogeneity with respect to the ages of participants and etiologies of uveitis within and across studies. The length of follow‐up among the studies ranged from 1 to 24 months after cataract surgery. The studies were at low risk of selection bias, but two of the four studies did not employ masking and only one study included all randomized participants in the final analyses. The funding source was disclosed by investigators of the largest study (professional society) and not reported by the other three. Due to heterogeneity in lens types evaluated and outcomes reported among the trials, we did not combine data in a meta‐analysis. In the largest study (140 participants), the study eye of each participant was randomized to receive one of four types of IOLs: hydrophobic acrylic, silicone, HSM PMMA, or unmodified PMMA. Proportions of participants with one or more Snellen lines of visual improvement were similar among the four treatment groups at one year' follow‐up: 45 of 48 (94%) in the hydrophobic acrylic IOL group, 39 of 44 (89%) in the silicone IOL group, 18 of 22 (82%) in the HSM PMMA IOL group, and 22 of 26 (85%) in the unmodified PMMA IOL group. When comparing hydrophobic acrylic IOLs with silicone IOLs, the risk ratio (RR) was 1.06 (95% confidence interval (CI) 0.93 to 1.20). At one year' follow‐up, fewer eyes randomized to hydrophobic acrylic IOLs developed posterior synechiae when compared with eyes receiving silicone IOLs (RR 0.18, 95% CI 0.04 to 0.79); the effects between these groups were less certain with respect to developing posterior capsule opacification (PCO) (RR 0.74, 95% CI 0.41 to 1.37), corneal edema (RR 0.49, 95% CI 0.22 to 1.12), cystoid macular edema (RR 0.10, 95% CI 0.01 to 1.84), or mild IOL decentration (RR 0.92, 95% CI 0.06 to 14.22). Two intra‐individual studies also compared HSM PMMA IOLs with unmodified PMMA IOLs at three or six months of follow‐up. These studies, including a combined total of 16 participants with uveitis, were insufficiently powered to detect differences in outcomes among eyes of people with uveitis randomized to receive HSM PMMA IOLs when compared with fellow eyes receiving unmodified PMMA IOLs. In the fourth study (60 participants), the study eye of each participant was randomized to receive a hydrophobic or hydrophilic acrylic IOL. At three months, there were no statistical or clinical differences between hydrophobic and hydrophilic acrylic IOL types in the proportions of participants with two or more Snellen lines of visual improvement (RR 1.03, 95% CI 0.87 to 1.22). There were similar rates in the development of PCO between hydrophobic or hydrophilic acrylic IOLs at six months' follow‐up (RR 1.00, 95% CI 0.80 to 1.25). The effect of the lenses on posterior synechiae was uncertain at six months' follow‐up (RR 0.50, 95% CI 0.05 to 5.22). None of the included studies reported quality of life outcomes. Authors' conclusions Based on the trials identified in this review, there is uncertainty as to which type of IOL provides the best visual and clinical outcomes in people with uveitis undergoing cataract surgery. The studies were small, not all lens materials were compared in all studies, and not all lens materials were available in all study sites. Evidence of a superior effect of hydrophobic acrylic lenses over silicone lenses, specifically for posterior synechiae outcomes comes from a single study at a high risk of performance and detection bias. However, due to small sample sizes and heterogeneity in outcome reporting, we found insufficient information to assess these and other types of IOL materials for cataract surgery for eyes with uveitis. Plain language summary Comparison of artificial lenses placed in eyes with uveitis during cataract surgery Background Cataract, a cloudy lens within the eye, is a major complication in people with uveitis (inflammation of the middle layer of the eye). Different types of artificial lenses (intraocular lenses, IOLs) are available to insert into the eye after removal of the cloudy natural lens during cataract surgery. The purpose of this review is to summarize the effects of different artificial lenses in adults with uveitis. Study characteristics The review authors searched the medical literature up to August 2013 and identified four randomized controlled trials (clinical studies where people are randomly put into one of two or more treatment groups) containing 216 participants investigating different lens types. Lens materials studied were acrylic, silicone, heparin surface modified, and poly(methyl methacrylate). The trials included participants with different causes of uveitis, compared different lens types, and reported different outcomes. Due to these differences across trials, no meta‐analysis (pooling of trial data) was performed. The largest trial (140 participants) was funded by a professional society. The other three trials did not report their funding sources. Key results There is very limited evidence on which to determine the effects of different types of lens materials for people with uveitis. The results from the largest trial provide only preliminary evidence that acrylic lenses may perform better than silicone lenses in terms of improving vision and reducing the chances of post‐surgical inflammation and complications. At this time, there is not enough data to conclude whether additional types of lenses are preferable to other types. Quality of the evidence Because the trials included small numbers of participants in each of the four lens‐type groups, there is uncertainty in the results of the studies.\\n\",\n",
       " 'Notes: [Eyes and Vision]\\n',\n",
       " 'URL: http://dx.doi.org/10.1002/14651858.CD007284.pub2\\n',\n",
       " '\\n',\n",
       " '\\n',\n",
       " 'Reference Type:  Journal Article\\n',\n",
       " 'Record Number: 31426\\n',\n",
       " 'Author: Nava, F., Ghilotti, F., Maggi, L., Hatemi, G., Del Bianco, A., Merlo, C., Filippini, G. and Tramacere, I.\\n',\n",
       " 'Year: 2014\\n',\n",
       " \"Title: Biologics, colchicine, corticosteroids, immunosuppressants and interferon‐alpha for Neuro‐Behçet's Syndrome\\n\",\n",
       " 'Journal: Cochrane Database of Systematic Reviews\\n',\n",
       " 'Issue: 12\\n',\n",
       " \"Short Title: Biologics, colchicine, corticosteroids, immunosuppressants and interferon‐alpha for Neuro‐Behçet's Syndrome\\n\",\n",
       " 'ISSN: 1465-1858\\n',\n",
       " 'DOI: 10.1002/14651858.CD010729.pub2\\n',\n",
       " 'Accession Number: CD010729\\n',\n",
       " 'Keywords: Adrenal Cortex Hormones [therapeutic use]\\n',\n",
       " 'Behcet Syndrome [complications, *drug therapy]\\n',\n",
       " 'Biological Products [therapeutic use]\\n',\n",
       " 'Central Nervous System Diseases [*drug therapy, etiology]\\n',\n",
       " 'Colchicine [therapeutic use]\\n',\n",
       " 'Humans\\n',\n",
       " 'Immunosuppressive Agents [therapeutic use]\\n',\n",
       " 'Interferon‐alpha [therapeutic use]\\n',\n",
       " \"Abstract: - Background Neuro‐Behçet Syndrome (NBS) is a severe chronic inflammatory vascular disease involving the Central Nervous System (CNS), and it is an invalidating condition with disability and a huge impact on quality of life. Recommendations on treatments for NBS include the use of disease‐modifying therapies in general, although they are not supported by a systematic review of the evidence. Objectives To assess the benefit and harms of available treatments for NBS, including biologics, colchicine, corticosteroids, immunosuppressants and interferon‐alpha. Search methods We searched the following databases up to 30 September 2014: Trials Specialised Register of The Cochrane Multiple Sclerosis and Rare Diseases of the Central Nervous System Group, CENTRAL, MEDLINE, EMBASE, CINAHL, LILACS, ORPHANET, Clinicaltrials.gov and World Health Organization (WHO) International Clinical Trials Registry Portal. Selection criteria Randomised controlled trials (RCTs), controlled clinical trials (CCTs), prospective and retrospective controlled cohort studies were eligible to assess the benefit. Patients over 13 years of age with a diagnosis of NBS. For assessment of harms, open‐label extension (OLE), case‐control studies, population‐based registries, case‐series and case‐reports were additionally planned to be evaluated. Data collection and analysis Selection of studies, data extraction and assessment of risk of bias were planned to be carried out independently by two review authors. Standard methodological procedures expected by The Cochrane Collaboration were followed. We planned to perform standard pair‐wise meta‐analyses for RCTs, and meta‐analyses based on the adjusted estimates using the inverse‐variance weighted average method for non‐randomised studies (NRSs). We planned to present the main results of the review in a 'Summary of Findings' table using the GRADE approach. Main results No RCTs, CCTs or controlled cohort studies on the benefit of the treatments for NBS met the inclusion criteria of the review. Only one potentially eligible study was identified, but it did not report sufficient details on the patient characteristics. The author of this study did not provide additional data on request, and therefore it was excluded. Hence, no studies were included in the present review. Since no studies were included in the assessment of benefit, no further search was performed in order to collect data on harms. Authors' conclusions There is no evidence to support or refute the benefit of biologics, colchicine, corticosteroids, immunosuppressants and interferon‐alpha for the treatment of patients with NBS. Thus, well‐designed multicentre RCTs are needed in order to inform and guide clinical practice. Plain language summary Modifying therapies such as biologics, colchicine, corticosteroids, immunosuppressants and interferon‐alpha for Neuro‐Behçet's Syndrome Neuro‐Behçet Syndrome (NBS) is an invalidating condition with a huge impact on quality of life. Recommendations on treatments for NBS include the use of disease‐modifying therapies such as biologics, colchicine, corticosteroids, immunosuppressants and interferon‐alpha. To assess their benefit and harms, the review authors decided to perform a systematic review of the available treatments for NBS. No studies were found that met the inclusion criteria of this review, indicating that there is no evidence to support or refute the benefit of these treatments for patients with NBS. Thus, well‐conducted research is required before an evidence‐based recommendation can be supported.\\n\",\n",
       " 'Notes: [Multiple Sclerosis and Rare Diseases of the CNS]\\n',\n",
       " 'URL: http://dx.doi.org/10.1002/14651858.CD010729.pub2\\n',\n",
       " '\\n',\n",
       " '\\n',\n",
       " 'Reference Type:  Journal Article\\n',\n",
       " 'Record Number: 31432\\n',\n",
       " 'Author: Pradhan, E., Bhandari, S., Gilbert, R. E. and Stanford, M.\\n',\n",
       " 'Year: 2016\\n',\n",
       " 'Title: Antibiotics versus no treatment for toxoplasma retinochoroiditis\\n',\n",
       " 'Journal: Cochrane Database of Systematic Reviews\\n',\n",
       " 'Issue: 5\\n',\n",
       " 'Short Title: Antibiotics versus no treatment for toxoplasma retinochoroiditis\\n',\n",
       " 'ISSN: 1465-1858\\n',\n",
       " 'DOI: 10.1002/14651858.CD002218.pub2\\n',\n",
       " 'Accession Number: CD002218\\n',\n",
       " 'Keywords: Administration, Oral\\n',\n",
       " 'Adult\\n',\n",
       " 'Anti‐Bacterial Agents [administration & dosage, *therapeutic use]\\n',\n",
       " 'Child\\n',\n",
       " 'Chorioretinitis [*drug therapy, parasitology]\\n',\n",
       " 'Drug Combinations\\n',\n",
       " 'Humans\\n',\n",
       " 'Pyrimethamine [therapeutic use]\\n',\n",
       " 'Randomized Controlled Trials as Topic\\n',\n",
       " 'Recurrence\\n',\n",
       " 'Secondary Prevention\\n',\n",
       " 'Sulfadiazine [therapeutic use]\\n',\n",
       " 'Sulfamerazine [therapeutic use]\\n',\n",
       " 'Sulfamethazine [therapeutic use]\\n',\n",
       " 'Toxoplasmosis, Ocular [complications, *drug therapy]\\n',\n",
       " 'Trimethoprim, Sulfamethoxazole Drug Combination [administration & dosage, therapeutic use]\\n',\n",
       " 'Visual Acuity\\n',\n",
       " 'Watchful Waiting\\n',\n",
       " \"Abstract: - Background Acute toxoplasma retinochoroiditis causes transient symptoms of ocular discomfort and may lead to permanent visual loss. Antibiotic treatment aims primarily to reduce the risk of permanent visual loss, recurrent retinochoroiditis, and the severity and duration of acute symptoms. There is uncertainty about the effectiveness of antibiotic treatment. Objectives To compare the effects of antibiotic treatment versus placebo or no treatment for toxoplasma retinochoroiditis. Search methods We searched CENTRAL (which contains the Cochrane Eyes and Vision group Trials Register) (2016, Issue 1), Ovid MEDLINE, Ovid MEDLINE In‐Process and Other Non‐Indexed Citations, Ovid MEDLINE Daily, Ovid OLDMEDLINE (January 1946 to February 2016), EMBASE (January 1980 to February 2016), Latin American and Caribbean Health Sciences Literature Database (LILACS) (January 1982 to February 2016), the ISRCTN registry ( www.isrctn.com/editAdvancedSearch ), ClinicalTrials.gov ( www.clinicaltrials.gov ), and the World Health Organization (WHO) International Clinical Trials Registry Platform (ICTRP) ( www.who.int/ictrp/search/en ). We did not use any date or language restrictions in the electronic searches for trials. We last searched the electronic databases on 22 February 2016. We searched the reference lists of identified articles and contacted pharmaceutical companies for unpublished trials. Selection criteria We included randomised controlled trials that compared any antibiotic treatment against placebo or no treatment. We excluded trials that included immunocompromised participants. We considered any antibiotic treatment known to be active against Toxoplasma gondii. Antibiotic treatment could be given in any dose orally, by intramuscular injection, by intravenous infusion, or by intravitreal injection. Data collection and analysis The primary outcomes for this review were visual acuity at least three months after treatment and risk of recurrent retinochoroiditis. Secondary outcomes were improvement in symptoms and signs of intraocular inflammation, size of lesion, and adverse events. We used standard methodological procedures expected by Cochrane. Main results Four trials that randomised a total of 268 participants met the inclusion criteria. In all four studies antibiotic was administered orally. One study conducted in Brazil in both adults and children compared trimethoprim‐sulfamexacocol over 20 months to no treatment and was judged to be at high risk of performance, detection, and attrition bias. The other three studies compared antibiotic treatment to placebo. We judged these three studies to be at a mixture of low or unclear risk of bias due to poor reporting. One study conducted in the US in adults studied pyrimethamine‐trisulfapyrimidine for eight weeks; one study conducted in the UK in children and adults evaluated pyrimethamine for four weeks; and one study conducted in Brazil in adults investigated trimethoprim‐sulfamethoxazole for 12 months. In the last study, all participants had active retinochoroiditis and were treated with antibiotics for 45 days prior to randomisation to trimethoprim‐sulfamethoxazole versus placebo. Only the study in Brazil of trimethoprim‐sulfamethoxazole over 12 months, in participants with healed lesions, reported the effect of treatment on visual acuity. People treated with antibiotics may have a similar change in visual acuity compared with people treated with placebo at one year (mean difference ‐1.00 letters, 95% confidence interval (CI) ‐7.93 to 5.93 letters; 93 participants; low‐quality evidence). Treatment with antibiotics probably reduces the risk of recurrent retinochoroiditis compared with placebo (risk ratio (RR) 0.26, 95% CI 0.11 to 0.63; 227 participants; 3 studies; I 2 = 0%; moderate‐quality evidence); similar results were seen for acute and chronic retinochoroiditis. The UK study of pyrimethamine for four weeks reported an improvement in intraocular inflammation in treated compared with control participants (RR 1.76, 95% CI 0.98 to 3.19; 29 part cipants; low‐quality evidence). The study in Brazil of trimethoprim‐sulfamethoxazole for 12 months stated that the severity of inflammation was higher in the comparator group when compared to the antibiotic‐treated group but did not provide further details. In the US study of pyrimethamine‐trisulfapyrimidine for eight weeks intraocular inflammation had almost completely resolved by eight weeks in all participants, however in this study all participants received steroid treatment. Two studies (UK and US studies) reported an increased risk of adverse events in treated participants. These were a fall in haemoglobin, leucocyte, and platelet count, nausea, loss of appetite, rash, and arthralgia. Authors' conclusions Treatment with antibiotics probably reduces the risk of recurrent toxoplasma retinochoroiditis, but there is currently no good evidence that this leads to better visual outcomes. However, absence of evidence of effect is not the same as evidence of no effect. Further trials of people with acute and chronic toxoplasma retinochoroiditis affecting any part of the retina are required to determine the effects of antibiotic treatment on visual outcomes. Plain language summary Antibiotics compared with no treatment or placebo for the treatment of toxoplasma retinochoroiditis Review question \\u2028 Are antibiotics an effective treatment for toxoplasma retinochoroiditis? Background \\u2028 Toxoplasma retinochoroiditis occurs when a parasite called Toxoplasma gondii gets into the retina (the light‐sensitive layer inside the eye) and the choroid (layer of the eyeball near the retina). This causes inflammation that can scar the retina and reduce vision. Symptoms include a sudden feeling of discomfort in the eye and loss of vision, which usually resolve spontaneously within six to eight weeks. The infection can keep returning, increasing the chances of damage. Antibiotics are sometimes used to try to reduce the inflammation and scarring, or to prevent the infection from re‐emerging, but it is unclear how well they work. Study characteristics \\u2028 We found four studies with a total of 268 participants. These studies were conducted in Brazil, the UK, and the US. The evidence is current to 22 February 2016. Key results \\u2028 Only one of the four studies compared the effect of antibiotic treatment for 12 months with placebo on visual acuity and found similar changes in both groups. Three studies examined the effect of antibiotics on reducing the number of recurring episodes of the disease. Two of these three studies were conducted in Brazil in adults infected with the more aggressive South American strains of the parasite, which can cause frequently recurring eye symptoms. The studies from Brazil found that the long‐term antibiotics over 14 and 12 months, respectively, reduced the number of recurrent episodes of retinochoroiditis. The other study did not find that short‐term (eight weeks) treatment with antibiotics made any difference. Two studies reported an improvement in intraocular inflammation in antibiotic‐treated compared with untreated participants, and one study reported no changes. Two studies investigated side effects of giving antibiotics such as decreased white blood cells, loss of appetite, rashes and other allergic reactions and found only weak evidence that antibiotics increase the risk of side effects. Quality of the evidence There were problems with the design, conduct, and analyses of all of the studies, which could have biased the results. There was a lack of evidence about whether antibiotics (short or long term) prevent vision loss. More trials are needed, including trials of newer antibiotics.\\n\",\n",
       " 'Notes: [Eyes and Vision]\\n',\n",
       " 'URL: http://dx.doi.org/10.1002/14651858.CD002218.pub2\\n',\n",
       " '\\n',\n",
       " '\\n',\n",
       " 'Reference Type:  Journal Article\\n',\n",
       " 'Record Number: 31427\\n',\n",
       " 'Author: Taylor, J., Glenny, A. M., Walsh, T., Brocklehurst, P., Riley, P., Gorodkin, R. and Pemberton, M. N.\\n',\n",
       " 'Year: 2014\\n',\n",
       " \"Title: Interventions for managing oral ulcers in Behçet's disease\\n\",\n",
       " 'Journal: Cochrane Database of Systematic Reviews\\n',\n",
       " 'Issue: 9\\n',\n",
       " \"Short Title: Interventions for managing oral ulcers in Behçet's disease\\n\",\n",
       " 'ISSN: 1465-1858\\n',\n",
       " 'DOI: 10.1002/14651858.CD011018.pub2\\n',\n",
       " 'Accession Number: CD011018\\n',\n",
       " 'Keywords: Acyclovir [therapeutic use]\\n',\n",
       " 'Adrenal Cortex Hormones [therapeutic use]\\n',\n",
       " 'Alanine [analogs & derivatives, therapeutic use]\\n',\n",
       " 'Behcet Syndrome [*complications, drug therapy]\\n',\n",
       " 'Colchicine [therapeutic use]\\n',\n",
       " 'Cyclosporine [therapeutic use]\\n',\n",
       " 'Etanercept\\n',\n",
       " 'Humans\\n',\n",
       " 'Immunoglobulin G [therapeutic use]\\n',\n",
       " 'Interferon‐alpha [therapeutic use]\\n',\n",
       " 'Oral Ulcer [drug therapy, etiology]\\n',\n",
       " 'Quinolones [therapeutic use]\\n',\n",
       " 'Randomized Controlled Trials as Topic\\n',\n",
       " 'Receptors, Tumor Necrosis Factor [therapeutic use]\\n',\n",
       " 'Stomatitis, Aphthous [*drug therapy, etiology]\\n',\n",
       " 'Sucralfate [therapeutic use]\\n',\n",
       " 'Thalidomide [therapeutic use]\\n',\n",
       " \"Abstract: - Background Behçet's disease is a chronic inflammatory vasculitis that can affect multiple systems. Mucocutaneous involvement is common, as is the involvement of many other systems such as the central nervous system and skin. Behç̧et's disease can cause significant morbidity, such as loss of sight, and can be life threatening. The frequency of oral ulceration in Behçet's disease is thought to be 97% to 100%. The presence of mouth ulcers can cause difficulties in eating, drinking, and speaking leading to a reduction in quality of life. There is no cure for Behçet's disease and therefore treatment of the oral ulcers that are associated with Behçet's disease is palliative. Objectives To determine the clinical effectiveness and safety of interventions on the pain, episode duration, and episode frequency of oral ulcers and on quality of life for patients with recurrent aphthous stomatitis (RAS)‐type ulceration associated with Behçet's disease. Search methods We undertook electronic searches of the Cochrane Oral Health Group Trials Register (to 4 October 2013); the Cochrane Central Register of Controlled Trials (CENTRAL) (The Cochrane Library 2013, Issue 9); MEDLINE via Ovid (1946 to 4 October 2013); EMBASE via Ovid (1980 to 4 October 2013); CINAHL via EBSCO (1980 to 4 October 2013); and AMED via Ovid (1985 to 4 October 2013). We searched the US National Institutes of Health trials register ( http://clinicaltrials.gov ) and the World Health Organization (WHO) Clinical Trials Registry Platform for ongoing trials. There were no restrictions on language or date of publication in the searches of the electronic databases. We contacted authors when necessary to obtain additional information. Selection criteria We included randomised controlled trials (RCTs) that looked at pre‐specified oral outcome measures to assess the efficacy of interventions for mouth ulcers in Behçet's disease. The oral outcome measures included pain, episode duration, episode frequency, safety, and quality of life. Trials were not restricted by outcomes alone. Data collection and analysis All studies meeting the inclusion criteria underwent data extraction and an assessment of risk of bias, independently by two review authors and using a pre‐standardised data extraction form. We used standard methodological procedures expected by Cochrane. Main results A total of 15 trials (n = 888 randomised participants) were included, 13 were placebo controlled and three were head to head (two trials had more than two treatment arms). Eleven of the trials were conducted in Turkey, two in Japan, one in Iran and one in the UK. Most trials used the International Study Group criteria for Behçet's disease. Eleven different interventions were assessed. The interventions were grouped into two categories, topical and systemic. Only one study was assessed as being at low risk of bias. It was not possible to carry out a meta‐analysis. The quality of the evidence ranged from moderate to very low and there was insufficient evidence to support or refute the use of any included intervention with regard to pain, episode duration, or episode frequency associated with oral ulcers, or safety of the interventions. Authors' conclusions Due to the heterogeneity of trials including trial design, choice of intervention, choice and timing of outcome measures, it was not possible to carry out a meta‐analysis. Several interventions show promise and future trials should be planned and reported according to the CONSORT guidelines. Whilst the primary aim of many trials for Behç̧et's disease is not necessarily reduction of oral ulceration, reporting of oral ulcers in these studies should be standardised and pre‐specified in the methodology. The use of a core outcome set for oral ulcer trials would be beneficial. Plain language summary Interventions for managing oral ulcers in Behçet's disease Review question This review has been conducted to assess the effects of different interventions, administered systemically or topically, for the prevention or treatment of ral ulcers in people with Behçet's disease. The interventions could be compared with an alternative intervention, no intervention or the administration of a placebo. Background Behçet's disease is a chronic disease characterised by a multitude of signs and symptoms including oral and genital ulcerations, skin lesions and inflammatory vascular involvement of the central nervous system and gastrointestinal tract. Although the underlying cause of Behçet’s disease is unknown it is thought to involve a genetic predisposition combined with environmental factors. Behçet's disease most commonly presents in the third decade. The disease is rare in individuals older than age 50 years and during childhood. Although both sexes are equally affected, it is thought that the disease has a more severe course amongst men. The oral ulceration that occurs in Behçet's disease can be painful and slow to heal. At its worst, this can cause significant difficulties in eating and drinking. Study characteristics Authors from Cochrane Oral Health carried out this review of existing studies and the evidence is current up to 4 October 2013. The review includes 15 studies published from 1980 to 2012 in which 888 participants were randomised. Eleven of the trials were conducted in Turkey, two in Japan, one in Iran, and one in the UK. Thirteen different interventions were assessed, administered either topically or systemically. Topical interventions: sucralfate, interferon–alpha (different doses), cyclosporin A, triamcinolone acetonide ointment, phenytoin syrup mouthwash. Systemic interventions: aciclovir, thalidomide (different doses), corticosteroids, rebamipide, etanercept, colchicine, interferon–alpha, cyclosporin. Key results There was insufficient evidence to support or refute the use of any included intervention with regard to pain, episode duration or episode frequency associated with oral ulcers, or the safety of the interventions. Quality of the evidence The quality of the evidence ranged from moderate to very low.\\n\",\n",
       " 'Notes: [Oral Health]\\n',\n",
       " 'URL: http://dx.doi.org/10.1002/14651858.CD011018.pub2\\n',\n",
       " '\\n',\n",
       " '\\n']"
      ]
     },
     "execution_count": 43,
     "metadata": {},
     "output_type": "execute_result"
    }
   ],
   "source": [
    "content"
   ]
  },
  {
   "cell_type": "code",
   "execution_count": 66,
   "id": "1a60f332-a083-4695-9345-2d6634d63ef0",
   "metadata": {},
   "outputs": [],
   "source": [
    "def extract_field_and_value(one_line):\n",
    "    field = one_line.split(':', 1)[0]\n",
    "    value = one_line.split(':', 1)[1]\n",
    "    \n",
    "    # remove heading and trailing whitespace\n",
    "    field = field.strip()\n",
    "    value = value.strip()\n",
    "    \n",
    "    return (field, value)\n"
   ]
  },
  {
   "cell_type": "code",
   "execution_count": 60,
   "id": "11fda617-5a6b-486a-8749-df09106e2624",
   "metadata": {},
   "outputs": [
    {
     "data": {
      "text/plain": [
       "'Notes'"
      ]
     },
     "execution_count": 60,
     "metadata": {},
     "output_type": "execute_result"
    }
   ],
   "source": [
    "'Notes: [Eyes and Vision]'.split(':', 1)[0]"
   ]
  },
  {
   "cell_type": "code",
   "execution_count": 61,
   "id": "33500d84-e041-4dab-a60e-5307e0caf713",
   "metadata": {
    "collapsed": true,
    "jupyter": {
     "outputs_hidden": true
    },
    "tags": []
   },
   "outputs": [
    {
     "ename": "IndexError",
     "evalue": "list index out of range",
     "output_type": "error",
     "traceback": [
      "\u001b[0;31m---------------------------------------------------------------------------\u001b[0m",
      "\u001b[0;31mIndexError\u001b[0m                                Traceback (most recent call last)",
      "\u001b[0;32m/var/folders/b0/dbz12pb13hg1zrjq45vwhc680000gn/T/ipykernel_22020/3495709242.py\u001b[0m in \u001b[0;36m<module>\u001b[0;34m\u001b[0m\n\u001b[1;32m      4\u001b[0m     \u001b[0;31m# oneline_split = one_line.split(':', 1)\u001b[0m\u001b[0;34m\u001b[0m\u001b[0;34m\u001b[0m\u001b[0;34m\u001b[0m\u001b[0m\n\u001b[1;32m      5\u001b[0m \u001b[0;31m#     print(oneline_split)\u001b[0m\u001b[0;34m\u001b[0m\u001b[0;34m\u001b[0m\u001b[0;34m\u001b[0m\u001b[0m\n\u001b[0;32m----> 6\u001b[0;31m     \u001b[0mfield\u001b[0m\u001b[0;34m,\u001b[0m \u001b[0mvalue\u001b[0m \u001b[0;34m=\u001b[0m \u001b[0mextract_field_and_value\u001b[0m\u001b[0;34m(\u001b[0m\u001b[0mone_line\u001b[0m\u001b[0;34m)\u001b[0m\u001b[0;34m\u001b[0m\u001b[0;34m\u001b[0m\u001b[0m\n\u001b[0m\u001b[1;32m      7\u001b[0m     \u001b[0;31m# print((field, value))\u001b[0m\u001b[0;34m\u001b[0m\u001b[0;34m\u001b[0m\u001b[0;34m\u001b[0m\u001b[0m\n\u001b[1;32m      8\u001b[0m     \u001b[0mall_field_name_pairs\u001b[0m\u001b[0;34m[\u001b[0m\u001b[0mfield\u001b[0m\u001b[0;34m]\u001b[0m \u001b[0;34m=\u001b[0m \u001b[0mvalue\u001b[0m\u001b[0;34m\u001b[0m\u001b[0;34m\u001b[0m\u001b[0m\n",
      "\u001b[0;32m/var/folders/b0/dbz12pb13hg1zrjq45vwhc680000gn/T/ipykernel_22020/877833804.py\u001b[0m in \u001b[0;36mextract_field_and_value\u001b[0;34m(one_line)\u001b[0m\n\u001b[1;32m      1\u001b[0m \u001b[0;32mdef\u001b[0m \u001b[0mextract_field_and_value\u001b[0m\u001b[0;34m(\u001b[0m\u001b[0mone_line\u001b[0m\u001b[0;34m)\u001b[0m\u001b[0;34m:\u001b[0m\u001b[0;34m\u001b[0m\u001b[0;34m\u001b[0m\u001b[0m\n\u001b[1;32m      2\u001b[0m     \u001b[0mfield\u001b[0m \u001b[0;34m=\u001b[0m \u001b[0mone_line\u001b[0m\u001b[0;34m.\u001b[0m\u001b[0msplit\u001b[0m\u001b[0;34m(\u001b[0m\u001b[0;34m':'\u001b[0m\u001b[0;34m,\u001b[0m \u001b[0;36m1\u001b[0m\u001b[0;34m)\u001b[0m\u001b[0;34m[\u001b[0m\u001b[0;36m0\u001b[0m\u001b[0;34m]\u001b[0m\u001b[0;34m\u001b[0m\u001b[0;34m\u001b[0m\u001b[0m\n\u001b[0;32m----> 3\u001b[0;31m     \u001b[0mvalue\u001b[0m \u001b[0;34m=\u001b[0m \u001b[0mone_line\u001b[0m\u001b[0;34m.\u001b[0m\u001b[0msplit\u001b[0m\u001b[0;34m(\u001b[0m\u001b[0;34m':'\u001b[0m\u001b[0;34m,\u001b[0m \u001b[0;36m1\u001b[0m\u001b[0;34m)\u001b[0m\u001b[0;34m[\u001b[0m\u001b[0;36m1\u001b[0m\u001b[0;34m]\u001b[0m\u001b[0;34m\u001b[0m\u001b[0;34m\u001b[0m\u001b[0m\n\u001b[0m\u001b[1;32m      4\u001b[0m \u001b[0;34m\u001b[0m\u001b[0m\n\u001b[1;32m      5\u001b[0m     \u001b[0;31m# remove heading and trailing whitespace\u001b[0m\u001b[0;34m\u001b[0m\u001b[0;34m\u001b[0m\u001b[0;34m\u001b[0m\u001b[0m\n",
      "\u001b[0;31mIndexError\u001b[0m: list index out of range"
     ]
    }
   ],
   "source": [
    "all_field_name_pairs = {}\n",
    "\n",
    "for one_line in content:\n",
    "    # oneline_split = one_line.split(':', 1)\n",
    "#     print(oneline_split)\n",
    "    field, value = extract_field_and_value(one_line)\n",
    "    # print((field, value))\n",
    "    all_field_name_pairs[field] = value"
   ]
  },
  {
   "cell_type": "code",
   "execution_count": 72,
   "id": "59592a2a-aefd-43e7-8832-cbebce2a1729",
   "metadata": {},
   "outputs": [],
   "source": [
    "# line by line\n",
    "all_field_name_pairs = {}\n",
    "\n",
    "for one_line in myline:\n",
    "    # oneline_split = one_line.split(':', 1)\n",
    "#     print(oneline_split)\n",
    "    field, value = extract_field_and_value(one_line)\n",
    "    # print((field, value))\n",
    "    all_field_name_pairs[field] = value"
   ]
  },
  {
   "cell_type": "code",
   "execution_count": 73,
   "id": "2b6cffee-5128-4500-a00c-834f571ca6f5",
   "metadata": {
    "tags": []
   },
   "outputs": [
    {
     "data": {
      "text/plain": [
       "{}"
      ]
     },
     "execution_count": 73,
     "metadata": {},
     "output_type": "execute_result"
    }
   ],
   "source": [
    "all_field_name_pairs"
   ]
  },
  {
   "cell_type": "code",
   "execution_count": 28,
   "id": "ebe9c87a-c1f3-48b9-9838-526d80f46644",
   "metadata": {},
   "outputs": [],
   "source": [
    "data = []\n",
    "\n",
    "data.append(all_field_name_pairs)"
   ]
  },
  {
   "cell_type": "code",
   "execution_count": 33,
   "id": "8bd8a323-322a-4580-ace1-a055cd4e10c2",
   "metadata": {
    "tags": []
   },
   "outputs": [],
   "source": [
    "data.append(all_field_name_pairs)"
   ]
  },
  {
   "cell_type": "code",
   "execution_count": 34,
   "id": "ad0aa763-8ba9-4ecf-b099-885b380d4e73",
   "metadata": {},
   "outputs": [
    {
     "data": {
      "text/html": [
       "<div>\n",
       "<style scoped>\n",
       "    .dataframe tbody tr th:only-of-type {\n",
       "        vertical-align: middle;\n",
       "    }\n",
       "\n",
       "    .dataframe tbody tr th {\n",
       "        vertical-align: top;\n",
       "    }\n",
       "\n",
       "    .dataframe thead th {\n",
       "        text-align: right;\n",
       "    }\n",
       "</style>\n",
       "<table border=\"1\" class=\"dataframe\">\n",
       "  <thead>\n",
       "    <tr style=\"text-align: right;\">\n",
       "      <th></th>\n",
       "      <th>Reference Type</th>\n",
       "      <th>Record Number</th>\n",
       "      <th>Author</th>\n",
       "      <th>Year</th>\n",
       "      <th>Title</th>\n",
       "      <th>Journal</th>\n",
       "      <th>Issue</th>\n",
       "      <th>Short Title</th>\n",
       "      <th>ISSN</th>\n",
       "      <th>DOI</th>\n",
       "      <th>Accession Number</th>\n",
       "      <th>Keywords</th>\n",
       "      <th>Abstract</th>\n",
       "      <th>Notes</th>\n",
       "      <th>URL</th>\n",
       "    </tr>\n",
       "  </thead>\n",
       "  <tbody>\n",
       "    <tr>\n",
       "      <th>0</th>\n",
       "      <td>Journal Article</td>\n",
       "      <td>31428</td>\n",
       "      <td>Barry, R. J., Tallouzi, M. O., Bucknall, N., M...</td>\n",
       "      <td>2018</td>\n",
       "      <td>Anti‐tumour necrosis factor biological therapi...</td>\n",
       "      <td>Cochrane Database of Systematic Reviews</td>\n",
       "      <td>12</td>\n",
       "      <td>Anti‐tumour necrosis factor biological therapi...</td>\n",
       "      <td>1465-1858</td>\n",
       "      <td>10.1002/14651858.CD012577.pub2</td>\n",
       "      <td>CD012577</td>\n",
       "      <td>Humans</td>\n",
       "      <td>- Background Non‐infectious uveitis describes ...</td>\n",
       "      <td>[Eyes and Vision]</td>\n",
       "      <td>http://dx.doi.org/10.1002/14651858.CD012577.pub2</td>\n",
       "    </tr>\n",
       "    <tr>\n",
       "      <th>1</th>\n",
       "      <td>Journal Article</td>\n",
       "      <td>31428</td>\n",
       "      <td>Barry, R. J., Tallouzi, M. O., Bucknall, N., M...</td>\n",
       "      <td>2018</td>\n",
       "      <td>Anti‐tumour necrosis factor biological therapi...</td>\n",
       "      <td>Cochrane Database of Systematic Reviews</td>\n",
       "      <td>12</td>\n",
       "      <td>Anti‐tumour necrosis factor biological therapi...</td>\n",
       "      <td>1465-1858</td>\n",
       "      <td>10.1002/14651858.CD012577.pub2</td>\n",
       "      <td>CD012577</td>\n",
       "      <td>Humans</td>\n",
       "      <td>- Background Non‐infectious uveitis describes ...</td>\n",
       "      <td>[Eyes and Vision]</td>\n",
       "      <td>http://dx.doi.org/10.1002/14651858.CD012577.pub2</td>\n",
       "    </tr>\n",
       "  </tbody>\n",
       "</table>\n",
       "</div>"
      ],
      "text/plain": [
       "    Reference Type Record Number  \\\n",
       "0  Journal Article         31428   \n",
       "1  Journal Article         31428   \n",
       "\n",
       "                                              Author  Year  \\\n",
       "0  Barry, R. J., Tallouzi, M. O., Bucknall, N., M...  2018   \n",
       "1  Barry, R. J., Tallouzi, M. O., Bucknall, N., M...  2018   \n",
       "\n",
       "                                               Title  \\\n",
       "0  Anti‐tumour necrosis factor biological therapi...   \n",
       "1  Anti‐tumour necrosis factor biological therapi...   \n",
       "\n",
       "                                   Journal Issue  \\\n",
       "0  Cochrane Database of Systematic Reviews    12   \n",
       "1  Cochrane Database of Systematic Reviews    12   \n",
       "\n",
       "                                         Short Title       ISSN  \\\n",
       "0  Anti‐tumour necrosis factor biological therapi...  1465-1858   \n",
       "1  Anti‐tumour necrosis factor biological therapi...  1465-1858   \n",
       "\n",
       "                              DOI Accession Number Keywords  \\\n",
       "0  10.1002/14651858.CD012577.pub2         CD012577   Humans   \n",
       "1  10.1002/14651858.CD012577.pub2         CD012577   Humans   \n",
       "\n",
       "                                            Abstract              Notes  \\\n",
       "0  - Background Non‐infectious uveitis describes ...  [Eyes and Vision]   \n",
       "1  - Background Non‐infectious uveitis describes ...  [Eyes and Vision]   \n",
       "\n",
       "                                                URL  \n",
       "0  http://dx.doi.org/10.1002/14651858.CD012577.pub2  \n",
       "1  http://dx.doi.org/10.1002/14651858.CD012577.pub2  "
      ]
     },
     "execution_count": 34,
     "metadata": {},
     "output_type": "execute_result"
    }
   ],
   "source": [
    "pd.DataFrame.from_records(data)"
   ]
  },
  {
   "cell_type": "code",
   "execution_count": 11,
   "id": "2c1fc2c1-d85a-446c-b960-5ab44cfa4ed9",
   "metadata": {},
   "outputs": [
    {
     "ename": "IndexError",
     "evalue": "list index out of range",
     "output_type": "error",
     "traceback": [
      "\u001b[0;31m---------------------------------------------------------------------------\u001b[0m",
      "\u001b[0;31mIndexError\u001b[0m                                Traceback (most recent call last)",
      "\u001b[0;32m/var/folders/b0/dbz12pb13hg1zrjq45vwhc680000gn/T/ipykernel_22020/1236165902.py\u001b[0m in \u001b[0;36m<module>\u001b[0;34m\u001b[0m\n\u001b[0;32m----> 1\u001b[0;31m \u001b[0;34m[\u001b[0m\u001b[0mextract_field_and_value\u001b[0m\u001b[0;34m(\u001b[0m\u001b[0mone_line\u001b[0m\u001b[0;34m)\u001b[0m \u001b[0;32mfor\u001b[0m \u001b[0mone_line\u001b[0m \u001b[0;32min\u001b[0m \u001b[0mcontent\u001b[0m\u001b[0;34m]\u001b[0m\u001b[0;34m\u001b[0m\u001b[0;34m\u001b[0m\u001b[0m\n\u001b[0m",
      "\u001b[0;32m/var/folders/b0/dbz12pb13hg1zrjq45vwhc680000gn/T/ipykernel_22020/1236165902.py\u001b[0m in \u001b[0;36m<listcomp>\u001b[0;34m(.0)\u001b[0m\n\u001b[0;32m----> 1\u001b[0;31m \u001b[0;34m[\u001b[0m\u001b[0mextract_field_and_value\u001b[0m\u001b[0;34m(\u001b[0m\u001b[0mone_line\u001b[0m\u001b[0;34m)\u001b[0m \u001b[0;32mfor\u001b[0m \u001b[0mone_line\u001b[0m \u001b[0;32min\u001b[0m \u001b[0mcontent\u001b[0m\u001b[0;34m]\u001b[0m\u001b[0;34m\u001b[0m\u001b[0;34m\u001b[0m\u001b[0m\n\u001b[0m",
      "\u001b[0;32m/var/folders/b0/dbz12pb13hg1zrjq45vwhc680000gn/T/ipykernel_22020/877833804.py\u001b[0m in \u001b[0;36mextract_field_and_value\u001b[0;34m(one_line)\u001b[0m\n\u001b[1;32m      1\u001b[0m \u001b[0;32mdef\u001b[0m \u001b[0mextract_field_and_value\u001b[0m\u001b[0;34m(\u001b[0m\u001b[0mone_line\u001b[0m\u001b[0;34m)\u001b[0m\u001b[0;34m:\u001b[0m\u001b[0;34m\u001b[0m\u001b[0;34m\u001b[0m\u001b[0m\n\u001b[1;32m      2\u001b[0m     \u001b[0mfield\u001b[0m \u001b[0;34m=\u001b[0m \u001b[0mone_line\u001b[0m\u001b[0;34m.\u001b[0m\u001b[0msplit\u001b[0m\u001b[0;34m(\u001b[0m\u001b[0;34m':'\u001b[0m\u001b[0;34m,\u001b[0m \u001b[0;36m1\u001b[0m\u001b[0;34m)\u001b[0m\u001b[0;34m[\u001b[0m\u001b[0;36m0\u001b[0m\u001b[0;34m]\u001b[0m\u001b[0;34m\u001b[0m\u001b[0;34m\u001b[0m\u001b[0m\n\u001b[0;32m----> 3\u001b[0;31m     \u001b[0mvalue\u001b[0m \u001b[0;34m=\u001b[0m \u001b[0mone_line\u001b[0m\u001b[0;34m.\u001b[0m\u001b[0msplit\u001b[0m\u001b[0;34m(\u001b[0m\u001b[0;34m':'\u001b[0m\u001b[0;34m,\u001b[0m \u001b[0;36m1\u001b[0m\u001b[0;34m)\u001b[0m\u001b[0;34m[\u001b[0m\u001b[0;36m1\u001b[0m\u001b[0;34m]\u001b[0m\u001b[0;34m\u001b[0m\u001b[0;34m\u001b[0m\u001b[0m\n\u001b[0m\u001b[1;32m      4\u001b[0m \u001b[0;34m\u001b[0m\u001b[0m\n\u001b[1;32m      5\u001b[0m     \u001b[0;31m# remove heading and trailing whitespace\u001b[0m\u001b[0;34m\u001b[0m\u001b[0;34m\u001b[0m\u001b[0;34m\u001b[0m\u001b[0m\n",
      "\u001b[0;31mIndexError\u001b[0m: list index out of range"
     ]
    }
   ],
   "source": [
    "[extract_field_and_value(one_line) for one_line in content]"
   ]
  },
  {
   "cell_type": "code",
   "execution_count": null,
   "id": "d5048a83-0ed1-408b-b8fe-37f1e2049d2a",
   "metadata": {},
   "outputs": [],
   "source": []
  }
 ],
 "metadata": {
  "kernelspec": {
   "display_name": "Python 3 (ipykernel)",
   "language": "python",
   "name": "python3"
  },
  "language_info": {
   "codemirror_mode": {
    "name": "ipython",
    "version": 3
   },
   "file_extension": ".py",
   "mimetype": "text/x-python",
   "name": "python",
   "nbconvert_exporter": "python",
   "pygments_lexer": "ipython3",
   "version": "3.8.8"
  }
 },
 "nbformat": 4,
 "nbformat_minor": 5
}

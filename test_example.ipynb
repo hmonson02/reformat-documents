{
 "cells": [
  {
   "cell_type": "code",
   "execution_count": 2,
   "id": "38c45f2d-5e4e-4611-8109-b028ff88da9e",
   "metadata": {},
   "outputs": [],
   "source": [
    "import pandas as pd"
   ]
  },
  {
   "cell_type": "code",
   "execution_count": 3,
   "id": "2169bae6-b9e6-43fc-80c0-8d6b74e3c3d2",
   "metadata": {},
   "outputs": [],
   "source": [
    "import re"
   ]
  },
  {
   "cell_type": "code",
   "execution_count": 6,
   "id": "a9573c6f-6abf-4cd0-8362-c80f346de88d",
   "metadata": {},
   "outputs": [],
   "source": [
    "one_example_filename = '/Users/victoriagao/local_docs/tina_bibliometric/process/one_example.txt'"
   ]
  },
  {
   "cell_type": "code",
   "execution_count": 11,
   "id": "1f25bb67-835b-4e15-8a89-22512874315a",
   "metadata": {},
   "outputs": [],
   "source": [
    "with open(one_example_filename, 'r') as file:\n",
    "    content = file.read().replace('\\n', ' ')\n",
    "    # content = file.read()"
   ]
  },
  {
   "cell_type": "code",
   "execution_count": 8,
   "id": "1fa692d2-670b-49c1-989c-97c845fffbfe",
   "metadata": {},
   "outputs": [
    {
     "data": {
      "text/plain": [
       "[' Journal Article ']"
      ]
     },
     "execution_count": 8,
     "metadata": {},
     "output_type": "execute_result"
    }
   ],
   "source": [
    "# [x.group() for x in re.finditer(r\"(?<=Reference Type\\: )(.*?)(?=Record Number\\: )\", content)]"
   ]
  },
  {
   "cell_type": "code",
   "execution_count": 9,
   "id": "5213d951-a4ca-4a5b-aee6-e2fda144fa1e",
   "metadata": {},
   "outputs": [
    {
     "data": {
      "text/plain": [
       "[' my first ']"
      ]
     },
     "execution_count": 9,
     "metadata": {},
     "output_type": "execute_result"
    }
   ],
   "source": [
    "test_str = \"This is my first sentence. This is my second \\nsentence.\"\n",
    "# test_str = \"This is my first sentence. This is my second sentence.\"\n",
    "re.findall(\"(?<=This is)(.*?)(?=sentence)\", test_str)"
   ]
  },
  {
   "cell_type": "code",
   "execution_count": 12,
   "id": "610bfd77-bf16-4d1a-8295-af1843d37350",
   "metadata": {},
   "outputs": [
    {
     "data": {
      "text/plain": [
       "[' Journal Article ']"
      ]
     },
     "execution_count": 12,
     "metadata": {},
     "output_type": "execute_result"
    }
   ],
   "source": [
    "#re.findall(r\"(?<=Reference\\ Type: )\"\n",
    "#           +r\"(.*?)(?=Record Number: )\", content)"
   ]
  },
  {
   "cell_type": "code",
   "execution_count": 13,
   "id": "69fac9a3-e971-4db4-9c97-108c7db1297d",
   "metadata": {
    "collapsed": true,
    "jupyter": {
     "outputs_hidden": true
    },
    "tags": []
   },
   "outputs": [
    {
     "data": {
      "text/plain": [
       "\"Reference Type:  Journal Article Record Number: 31428 Author: Barry, R. J., Tallouzi, M. O., Bucknall, N., Mathers, J. M., Murray, P. I., Calvert, M. J., Moore, D. J. and Denniston, A. K. Year: 2018 Title: Anti‐tumour necrosis factor biological therapies for the treatment of uveitic macular oedema (UMO) for non‐infectious uveitis Journal: Cochrane Database of Systematic Reviews Issue: 12 Short Title: Anti‐tumour necrosis factor biological therapies for the treatment of uveitic macular oedema (UMO) for non‐infectious uveitis ISSN: 1465-1858 DOI: 10.1002/14651858.CD012577.pub2 Accession Number: CD012577 Keywords: Humans Macular Edema [*drug therapy, etiology] Off‐Label Use Tumor Necrosis Factor‐alpha [*antagonists & inhibitors] Uveitis [*complications] Abstract: - Background Non‐infectious uveitis describes a heterogenous group of ocular disorders characterised by intraocular inflammation in the absence of infection. Uveitis is a leading cause of visual loss, most commonly due to uveitic macular oedema (UMO). Treatment is aimed at reducing disease activity by suppression of the intraocular inflammatory response. In the case of macular oedema, the aim is to restore macular architecture as quickly as possible, in order to prevent irreversible photoreceptor damage in this area. Acute exacerbations are typically managed with corticosteroids, which may be administered topically, locally or systemically. Whilst these are often rapidly effective in achieving disease control, long‐term use is associated with significant local and systemic side effects, and 'steroid sparing agents' are typically used to achieve prolonged control in severe or recalcitrant disease. Anti‐tumour necrosis factor (TNF) drugs block a critical cytokine in the inflammatory signalling process, and have emerged as effective steroid‐sparing immunomodulatory agents in a wide range of non‐ocular conditions. There is mechanistic data to suggest that they may provide a more targeted approach to disease control in UMO than other agents, but to date, these agents have predominantly been used 'off label' as the majority are not licensed for ocular use. This review aims to summarise the available literature reporting the use of anti‐TNF therapy in UMO, thus developing the evidence‐base on which to make future treatment decisions and develop clinical guidelines in this area. Objectives To assess the efficacy of anti‐TNF therapy in treatment of UMO. Search methods We searched the Cochrane Central Register of Controlled Trials (CENTRAL; 2018, Issue 2), which contains the Cochrane Eyes and Vision Trials Register; Ovid MEDLINE; Ovid Embase; LILACS; Web of Science Conference Proceedings Citation Index‐ Science (CPCI‐S); System for Information on Grey Literature in Europe (OpenGrey); the ISRCTN registry; ClinicalTrials.gov and the WHO ICTRP. The date of the search was 29 March 2018. Selection criteria We planned to include all relevant randomised controlled trials assessing the use of anti‐TNF agents in treatment of UMO. No limits were applied to participant age, gender or ethnicity. The primary comparisons of this review were: anti‐TNF versus no treatment or placebo; anti‐TNF versus another pharmacological agent; comparison of different anti‐TNF drugs; comparison of different doses and routes of administration of the same anti‐TNF drug. The primary outcome measure that we assessed for this review was best‐corrected visual acuity (BCVA) in the treated eye. Secondary outcome measures were anatomical macular change, clinical estimation of vitreous haze and health‐related quality of life. Data collection and analysis Two review authors independently screened titles and abstracts retrieved through the database searches. We retrieved full‐text reports of studies categorised as 'unsure' or 'include' after we had reviewed the abstracts. Two review authors independently reviewed each full‐text report for eligibility. We resolved discrepancies through discussion. Main results We identified no completed or ongoing trial that was eligible for this Cochrane Review. Authors' conclusions Our review did not identify any evidence from randomised controlled trials for or against the role of anti���TNF agents in the management of UMO. Although there are a number of high‐quality randomised controlled trials that demonstrate the efficacy of anti‐TNF agents in preventing recurrence of inflammation in uveitis, the reported study outcomes do not include changes in UMO. As a result, there were insufficient data to conclude whether there was a significant treatment effect specifically for UMO. Future trials should be designed to include quantitative measures of UMO as primary study outcomes, for example by reporting the presence or absence of UMO, or by measuring central macular thickness for study participants. Furthermore, whilst UMO is an important complication of uveitis, we acknowledge that uveitis is associated with many significant structural and functional complications. It is not possible to determine treatment efficacy based on a single outcome measure. We recommend that future reviews of therapeutic interventions in uveitis should use composite measures of treatment response comprising a range of potential complications of disease. Plain language summary Anti‐tumour necrosis factor medication for treating swelling at the back of the eye (macular oedema) due to inflammatory eye disease (uveitis) What is the aim of this review? \\u2028 The aim of this Cochrane Review was to find out whether a new class of drugs (anti‐tumour necrosis factor agents) is effective in treating swelling at the back of the eye (macular oedema) caused by inflammation in the eye (uveitis). Cochrane Review authors searched for all relevant studies to address this question, but found no suitable studies for inclusion. Key messages \\u2028 There is currently no evidence for or against the use of anti‐tumour necrosis factor agents in treatment of macular oedema in uveitis. What was studied in this review? \\u2028 Uveitis is a group of eye conditions where there is inflammation within the eye. If there is inflammation at the back of the eye (macula) this can cause swelling (macular oedema). Macula oedema can lead to loss of vision, Uveitis is often treated with steroids to control the inflammation and avoid damage to the eye. But steroids have potentially serious side effects, and doctors do not recommend long‐term use. 'Steroid‐sparing agents' are medications with similar anti‐inflammatory effects to steroids, but with fewer side effects. They are preferred when people with uveitis need long‐term treatment. Anti‐tumour necrosis factor agents are a new type of steroid‐sparing agent. They have been used for other conditions. Cochrane researchers wanted to find out if these agents are useful in the treatment of macular oedema in uveitis. What are the main results of the review? \\u2028 Cochrane Review authors searched multiple electronic databases for studies of the use of anti‐tumour necrosis factor medications in macular oedema due to uveitis. They found no relevant studies. There are some studies that show that these drugs are effective in controlling inflammation in the eye, but none of these specifically investigated macular oedema. More research is needed to help informed decision‐making in this area. How up‐to‐date is this review? \\u2028 Cochrane Review authors searched for studies that had been published up to 29 March 2018. Notes: [Eyes and Vision] URL: http://dx.doi.org/10.1002/14651858.CD012577.pub2\""
      ]
     },
     "execution_count": 13,
     "metadata": {},
     "output_type": "execute_result"
    }
   ],
   "source": [
    "#content"
   ]
  },
  {
   "cell_type": "code",
   "execution_count": null,
   "id": "c13a34b0-bd15-4f24-b958-5c31582d727a",
   "metadata": {},
   "outputs": [],
   "source": []
  },
  {
   "cell_type": "code",
   "execution_count": 14,
   "id": "f649c531-3540-412e-a4c4-01f3982d8ee2",
   "metadata": {
    "tags": []
   },
   "outputs": [
    {
     "data": {
      "text/plain": [
       "[('Reference Type: ',\n",
       "  ' Journal Article ',\n",
       "  'Record Number: ',\n",
       "  '31428 ',\n",
       "  'Author: ',\n",
       "  'Barry, R. J., Tallouzi, M. O., Bucknall, N., Mathers, J. M., Murray, P. I., Calvert, M. J., Moore, D. J. and Denniston, A. K. ',\n",
       "  'Year: ',\n",
       "  '2018 ',\n",
       "  'Title: ',\n",
       "  'Anti‐tumour necrosis factor biological therapies for the treatment of uveitic macular oedema (UMO) for non‐infectious uveitis ',\n",
       "  'Journal: ',\n",
       "  'Cochrane Database of Systematic Reviews ',\n",
       "  'Issue: ',\n",
       "  '12 ',\n",
       "  'Short Title: ',\n",
       "  'Anti‐tumour necrosis factor biological therapies for the treatment of uveitic macular oedema (UMO) for non‐infectious uveitis ',\n",
       "  'ISSN: ',\n",
       "  '1465-1858 ',\n",
       "  'DOI: ',\n",
       "  '10.1002/14651858.CD012577.pub2 ',\n",
       "  'Accession Number: ',\n",
       "  'CD012577 ',\n",
       "  'Keywords: ',\n",
       "  'Humans Macular Edema [*drug therapy, etiology] Off‐Label Use Tumor Necrosis Factor‐alpha [*antagonists & inhibitors] Uveitis [*complications] ',\n",
       "  'Abstract: ',\n",
       "  \"- Background Non‐infectious uveitis describes a heterogenous group of ocular disorders characterised by intraocular inflammation in the absence of infection. Uveitis is a leading cause of visual loss, most commonly due to uveitic macular oedema (UMO). Treatment is aimed at reducing disease activity by suppression of the intraocular inflammatory response. In the case of macular oedema, the aim is to restore macular architecture as quickly as possible, in order to prevent irreversible photoreceptor damage in this area. Acute exacerbations are typically managed with corticosteroids, which may be administered topically, locally or systemically. Whilst these are often rapidly effective in achieving disease control, long‐term use is associated with significant local and systemic side effects, and 'steroid sparing agents' are typically used to achieve prolonged control in severe or recalcitrant disease. Anti‐tumour necrosis factor (TNF) drugs block a critical cytokine in the inflammatory signalling process, and have emerged as effective steroid‐sparing immunomodulatory agents in a wide range of non‐ocular conditions. There is mechanistic data to suggest that they may provide a more targeted approach to disease control in UMO than other agents, but to date, these agents have predominantly been used 'off label' as the majority are not licensed for ocular use. This review aims to summarise the available literature reporting the use of anti‐TNF therapy in UMO, thus developing the evidence‐base on which to make future treatment decisions and develop clinical guidelines in this area. Objectives To assess the efficacy of anti‐TNF therapy in treatment of UMO. Search methods We searched the Cochrane Central Register of Controlled Trials (CENTRAL; 2018, Issue 2), which contains the Cochrane Eyes and Vision Trials Register; Ovid MEDLINE; Ovid Embase; LILACS; Web of Science Conference Proceedings Citation Index‐ Science (CPCI‐S); System for Information on Grey Literature in Europe (OpenGrey); the ISRCTN registry; ClinicalTrials.gov and the WHO ICTRP. The date of the search was 29 March 2018. Selection criteria We planned to include all relevant randomised controlled trials assessing the use of anti‐TNF agents in treatment of UMO. No limits were applied to participant age, gender or ethnicity. The primary comparisons of this review were: anti‐TNF versus no treatment or placebo; anti‐TNF versus another pharmacological agent; comparison of different anti‐TNF drugs; comparison of different doses and routes of administration of the same anti‐TNF drug. The primary outcome measure that we assessed for this review was best‐corrected visual acuity (BCVA) in the treated eye. Secondary outcome measures were anatomical macular change, clinical estimation of vitreous haze and health‐related quality of life. Data collection and analysis Two review authors independently screened titles and abstracts retrieved through the database searches. We retrieved full‐text reports of studies categorised as 'unsure' or 'include' after we had reviewed the abstracts. Two review authors independently reviewed each full‐text report for eligibility. We resolved discrepancies through discussion. Main results We identified no completed or ongoing trial that was eligible for this Cochrane Review. Authors' conclusions Our review did not identify any evidence from randomised controlled trials for or against the role of anti���TNF agents in the management of UMO. Although there are a number of high‐quality randomised controlled trials that demonstrate the efficacy of anti‐TNF agents in preventing recurrence of inflammation in uveitis, the reported study outcomes do not include changes in UMO. As a result, there were insufficient data to conclude whether there was a significant treatment effect specifically for UMO. Future trials should be designed to include quantitative measures of UMO as primary study outcomes, for example by reporting the presence or absence of UMO, or by measuring central macular thickness for study participants. Furthermore, whilst UMO is an important complication of uveitis, we acknowledge that uveitis is associated with many significant structural and functional complications. It is not possible to determine treatment efficacy based on a single outcome measure. We recommend that future reviews of therapeutic interventions in uveitis should use composite measures of treatment response comprising a range of potential complications of disease. Plain language summary Anti‐tumour necrosis factor medication for treating swelling at the back of the eye (macular oedema) due to inflammatory eye disease (uveitis) What is the aim of this review? \\u2028 The aim of this Cochrane Review was to find out whether a new class of drugs (anti‐tumour necrosis factor agents) is effective in treating swelling at the back of the eye (macular oedema) caused by inflammation in the eye (uveitis). Cochrane Review authors searched for all relevant studies to address this question, but found no suitable studies for inclusion. Key messages \\u2028 There is currently no evidence for or against the use of anti‐tumour necrosis factor agents in treatment of macular oedema in uveitis. What was studied in this review? \\u2028 Uveitis is a group of eye conditions where there is inflammation within the eye. If there is inflammation at the back of the eye (macula) this can cause swelling (macular oedema). Macula oedema can lead to loss of vision, Uveitis is often treated with steroids to control the inflammation and avoid damage to the eye. But steroids have potentially serious side effects, and doctors do not recommend long‐term use. 'Steroid‐sparing agents' are medications with similar anti‐inflammatory effects to steroids, but with fewer side effects. They are preferred when people with uveitis need long‐term treatment. Anti‐tumour necrosis factor agents are a new type of steroid‐sparing agent. They have been used for other conditions. Cochrane researchers wanted to find out if these agents are useful in the treatment of macular oedema in uveitis. What are the main results of the review? \\u2028 Cochrane Review authors searched multiple electronic databases for studies of the use of anti‐tumour necrosis factor medications in macular oedema due to uveitis. They found no relevant studies. There are some studies that show that these drugs are effective in controlling inflammation in the eye, but none of these specifically investigated macular oedema. More research is needed to help informed decision‐making in this area. How up‐to‐date is this review? \\u2028 Cochrane Review authors searched for studies that had been published up to 29 March 2018. \",\n",
       "  'Notes: ',\n",
       "  '[Eyes and Vision] ',\n",
       "  'URL: ',\n",
       "  '')]"
      ]
     },
     "execution_count": 14,
     "metadata": {},
     "output_type": "execute_result"
    }
   ],
   "source": [
    "re.findall(\"(Reference Type: )(.*?)\"\n",
    "           +\"(Record Number: )(.*?)\"\n",
    "           +\"(Author: )(.*?)\"\n",
    "           +\"(Year: )(.*?)\"\n",
    "           +\"(Title: )(.*?)\"\n",
    "           +\"(Journal: )(.*?)\"\n",
    "           +\"(Issue: )(.*?)\"\n",
    "           +\"(Short Title: )(.*?)\"\n",
    "           +\"(ISSN: )(.*?)\"\n",
    "           +\"(DOI: )(.*?)\"\n",
    "           +\"(Accession Number: )(.*?)\"\n",
    "           +\"(Keywords: )(.*?)\"\n",
    "           +\"(Abstract: )(.*?)\"\n",
    "           +\"(Notes: )(.*?)\"\n",
    "           +\"(URL: )(.*?)\", content)"
   ]
  },
  {
   "cell_type": "code",
   "execution_count": 17,
   "id": "64134cc9-e8c3-4e60-aed6-e70b6be7bcaf",
   "metadata": {},
   "outputs": [],
   "source": [
    "list_one = re.findall(\"(Reference Type: )(.*?)\"\n",
    "           +\"(Record Number: )(.*?)\"\n",
    "           +\"(Author: )(.*?)\"\n",
    "           +\"(Year: )(.*?)\"\n",
    "           +\"(Title: )(.*?)\"\n",
    "           +\"(Journal: )(.*?)\"\n",
    "           +\"(Issue: )(.*?)\"\n",
    "           +\"(Short Title: )(.*?)\"\n",
    "           +\"(ISSN: )(.*?)\"\n",
    "           +\"(DOI: )(.*?)\"\n",
    "           +\"(Accession Number: )(.*?)\"\n",
    "           +\"(Keywords: )(.*?)\"\n",
    "           +\"(Abstract: )(.*?)\"\n",
    "           +\"(Notes: )(.*?)\"\n",
    "           +\"(URL: )(.*?)\", content)"
   ]
  },
  {
   "cell_type": "code",
   "execution_count": 22,
   "id": "f711f86f-4e73-4c44-af31-1f03e4cf380b",
   "metadata": {},
   "outputs": [
    {
     "data": {
      "text/plain": [
       "list"
      ]
     },
     "execution_count": 22,
     "metadata": {},
     "output_type": "execute_result"
    }
   ],
   "source": [
    "type(list_one)"
   ]
  },
  {
   "cell_type": "code",
   "execution_count": 31,
   "id": "83e60b1b-8ab5-4b0c-acee-9c0229118618",
   "metadata": {
    "tags": []
   },
   "outputs": [
    {
     "data": {
      "text/plain": [
       "tuple"
      ]
     },
     "execution_count": 31,
     "metadata": {},
     "output_type": "execute_result"
    }
   ],
   "source": [
    "type(list_one[0])"
   ]
  },
  {
   "cell_type": "code",
   "execution_count": null,
   "id": "f7a8b217-5c5b-48de-95e9-1a41bf54e11b",
   "metadata": {},
   "outputs": [],
   "source": []
  },
  {
   "cell_type": "code",
   "execution_count": 25,
   "id": "43f09da8-1e5c-4452-b7ab-719c86797b13",
   "metadata": {},
   "outputs": [
    {
     "data": {
      "text/plain": [
       "[]"
      ]
     },
     "execution_count": 25,
     "metadata": {},
     "output_type": "execute_result"
    }
   ],
   "source": [
    "[item for item in list_one if item[0] == 'Journal']\n",
    "[item for item in list_one if 'Journal' in item]"
   ]
  },
  {
   "cell_type": "code",
   "execution_count": null,
   "id": "5dbcff96-d0aa-4983-9285-f1e5c2406cf3",
   "metadata": {},
   "outputs": [],
   "source": [
    "# how to split a tuple?"
   ]
  }
 ],
 "metadata": {
  "kernelspec": {
   "display_name": "Python 3 (ipykernel)",
   "language": "python",
   "name": "python3"
  },
  "language_info": {
   "codemirror_mode": {
    "name": "ipython",
    "version": 3
   },
   "file_extension": ".py",
   "mimetype": "text/x-python",
   "name": "python",
   "nbconvert_exporter": "python",
   "pygments_lexer": "ipython3",
   "version": "3.8.8"
  }
 },
 "nbformat": 4,
 "nbformat_minor": 5
}

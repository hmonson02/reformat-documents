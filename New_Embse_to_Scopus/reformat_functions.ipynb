{
 "cells": [
  {
   "cell_type": "code",
   "execution_count": null,
   "metadata": {},
   "outputs": [],
   "source": []
  },
  {
   "cell_type": "code",
   "execution_count": 1,
   "metadata": {},
   "outputs": [],
   "source": [
    "import re\n",
    "import pandas as pd"
   ]
  },
  {
   "cell_type": "markdown",
   "metadata": {},
   "source": [
    "## Make a name dictionary "
   ]
  },
  {
   "cell_type": "markdown",
   "metadata": {},
   "source": [
    "### for one cell"
   ]
  },
  {
   "cell_type": "code",
   "execution_count": 2,
   "metadata": {},
   "outputs": [],
   "source": [
    "#define the pattern between last name and first name from the authors column\n",
    "author_last_first_pattern = \"(?P<lastname>[A-Za-z].*)\\s\" + \"(?P<firstname>[A-Z](.*)?.)\""
   ]
  },
  {
   "cell_type": "code",
   "execution_count": 3,
   "metadata": {},
   "outputs": [],
   "source": [
    "def make_last_first_dic(author_cell, author_last_first_pattern):\n",
    "    author_last_first_dic = [m.groupdict() for m in re.finditer(author_last_first_pattern, author_cell)]\n",
    "    \n",
    "    author_last_first_dic = { o['lastname']: o['firstname'] for o in author_last_first_dic }\n",
    "    \n",
    "    return author_last_first_dic\n",
    "\n",
    "# make_last_first_dic('first_author_cell', author_last_first_pattern)"
   ]
  },
  {
   "cell_type": "markdown",
   "metadata": {},
   "source": [
    "## Make main_affiliation function:"
   ]
  },
  {
   "cell_type": "markdown",
   "metadata": {},
   "source": [
    "##### split individual cells:"
   ]
  },
  {
   "cell_type": "code",
   "execution_count": 7,
   "metadata": {},
   "outputs": [],
   "source": [
    "# first_author_affiliation_cell = df_output[\"Authors with affiliations\"][0]\n",
    "def split_by_lines(one_affiliation_cell):\n",
    "    affiliation_cell = one_affiliation_cell.split('\\n\\n')\n",
    "    return affiliation_cell\n",
    "\n",
    "#splitted_first_author_affiliation_cell = split_by_lines(first_author_affiliation_cell)\n"
   ]
  },
  {
   "cell_type": "markdown",
   "metadata": {},
   "source": [
    "##### Create function that organizes affiliation for each cell"
   ]
  },
  {
   "cell_type": "code",
   "execution_count": 8,
   "metadata": {},
   "outputs": [],
   "source": [
    "# One function for each cell\n",
    "# authors_affiliation -> list of '(authors) affiliation_A', '(authors) affiliation_B'\n",
    "def create_affiliation_one_cell(raw_authors_affiliation_one_cell, last_first_dict):\n",
    "    \n",
    "    # namescope\n",
    "    \n",
    "    affiliation_list = [expand_author_per_affiliation(each_element, last_first_dict) \n",
    "                        for each_element in raw_authors_affiliation_one_cell]\n",
    "    #print(affiliation_list)\n",
    "    \n",
    "        \n",
    "    return affiliation_list # output is a string\n",
    "\n",
    "\n",
    "# Returns a list of authors' lastnames and the corresponding institute (one element of one cell)\n",
    "def expand_author_per_affiliation(one_element, last_first_dict):\n",
    "\n",
    "    full_name_list_one_element = []\n",
    "\n",
    "    # try extracting authors from () with pattern '\\((.*?)\\)\\s+(.*)'\n",
    "    try:\n",
    "        authors_affiliation = re.match('\\((.*?)\\)\\s+(.*)', one_element).groups() #there's (authors) and affiliation\n",
    "\n",
    "        authors = authors_affiliation[0]\n",
    "        affiliation = authors_affiliation[1]\n",
    "\n",
    "        #print(authors)\n",
    "        #print(affiliation)\n",
    "\n",
    "        authors_list_one_element = authors.split(', ')\n",
    "\n",
    "        for this_last_name in authors_list_one_element:\n",
    "            first_name_found = last_first_dict[this_last_name]\n",
    "            full_name = ' '.join([this_last_name, first_name_found])\n",
    "\n",
    "            full_name_list_one_element.append(full_name + ', ' + affiliation)\n",
    "            #print(last_first_name_list)\n",
    "            full_string_one_element = '; '.join(full_name_list_one_element)\n",
    "\n",
    "    except AttributeError as e:\n",
    "        print(str(e))\n",
    "        # authors = ''\n",
    "        # affiliation = ''\n",
    "        full_string_one_element = ''\n",
    "    except KeyError as e:\n",
    "        print(str(e))\n",
    "        full_string_one_element = ''\n",
    "    except UnboundLocalError as e:\n",
    "        print(str(e))\n",
    "        full_string_one_element = ''\n",
    "#         finally:\n",
    "#             print('we do this anyway')\n",
    "#             # authors = ''\n",
    "#             # affiliation = ''  \n",
    "#             full_string_one_element = ''\n",
    "\n",
    "    return full_string_one_element"
   ]
  },
  {
   "cell_type": "code",
   "execution_count": 9,
   "metadata": {},
   "outputs": [],
   "source": [
    "def main_affiliation(authors_col, affiliation_col):\n",
    "    \n",
    "    name_dic = make_last_first_dic(authors_col, author_last_first_pattern)\n",
    "    #print(name_dic)\n",
    "    \n",
    "    affiliation_cell = split_by_lines(affiliation_col)\n",
    "    #print(affiliation_cell)\n",
    "    \n",
    "    \n",
    "    author_affiliation_one_cell = create_affiliation_one_cell(affiliation_cell, name_dic)\n",
    "    full_author_affiliation_one_cell = '; '.join(author_affiliation_one_cell)\n",
    "    \n",
    "    # print(full_full_affiliation_one_cell)\n",
    "    \n",
    "    return full_author_affiliation_one_cell\n",
    "    \n",
    "    "
   ]
  },
  {
   "cell_type": "markdown",
   "metadata": {},
   "source": [
    "## Define 3 other functions"
   ]
  },
  {
   "cell_type": "markdown",
   "metadata": {},
   "source": [
    "### split authors and add , after authors"
   ]
  },
  {
   "cell_type": "code",
   "execution_count": 10,
   "metadata": {},
   "outputs": [],
   "source": [
    "# a column of a dataframe --> Series\n",
    "def split_authors(df_input):\n",
    "    \n",
    "    authors_dlmt = \"\\n\\n\"\n",
    "\n",
    "    # df_output[\"Authors\"] = \\\n",
    "    splitted = df_input[\"Authors\"]\\\n",
    "               .str.strip()\\\n",
    "               .str.split(authors_dlmt)\\\n",
    "               .str.join(', ')\n",
    "\n",
    "    return splitted\n",
    "\n"
   ]
  },
  {
   "cell_type": "markdown",
   "metadata": {},
   "source": [
    "### remove crap after institutions"
   ]
  },
  {
   "cell_type": "code",
   "execution_count": 11,
   "metadata": {},
   "outputs": [],
   "source": [
    "def remove_crap_institution(df_input):\n",
    "    institutions_dlmt = \".\"\n",
    "\n",
    "    clean_institution = df_input[\"Source title\"].str.strip()\\\n",
    "                        .str.split(institutions_dlmt,1)\\\n",
    "                        .str[0]\n",
    "\n",
    "    return clean_institution"
   ]
  },
  {
   "cell_type": "markdown",
   "metadata": {},
   "source": [
    "### add semicolon after each keyword"
   ]
  },
  {
   "cell_type": "code",
   "execution_count": 12,
   "metadata": {},
   "outputs": [],
   "source": [
    "def add_semi(df_input):\n",
    "    keyword_dlmt = \"\\n\\n\"\n",
    "\n",
    "    # df_output[\"Authors\"] = \\\n",
    "    added_semi = df_input[\"Author Keywords\"]\\\n",
    "                 .str.strip()\\\n",
    "                 .str.split(keyword_dlmt)\\\n",
    "                 .str.join('; ')\n",
    "    \n",
    "    return added_semi"
   ]
  },
  {
   "cell_type": "code",
   "execution_count": null,
   "metadata": {},
   "outputs": [],
   "source": []
  },
  {
   "cell_type": "code",
   "execution_count": null,
   "metadata": {},
   "outputs": [],
   "source": []
  }
 ],
 "metadata": {
  "kernelspec": {
   "display_name": "Python 3",
   "language": "python",
   "name": "python3"
  },
  "language_info": {
   "codemirror_mode": {
    "name": "ipython",
    "version": 3
   },
   "file_extension": ".py",
   "mimetype": "text/x-python",
   "name": "python",
   "nbconvert_exporter": "python",
   "pygments_lexer": "ipython3",
   "version": "3.8.3"
  }
 },
 "nbformat": 4,
 "nbformat_minor": 4
}
